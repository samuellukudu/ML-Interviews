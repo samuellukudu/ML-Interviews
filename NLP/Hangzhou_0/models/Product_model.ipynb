{
 "cells": [
  {
   "cell_type": "markdown",
   "id": "45a61d36-f665-4930-ba43-a99abec49706",
   "metadata": {},
   "source": [
    "**NLP-Interview**"
   ]
  },
  {
   "cell_type": "code",
   "execution_count": 1,
   "id": "6ead14d8-5cc3-4333-9e9e-85806633366f",
   "metadata": {},
   "outputs": [],
   "source": [
    "import os, sys, gc\n",
    "from pathlib import Path\n",
    "from tqdm.auto import tqdm\n",
    "\n",
    "import pandas as pd\n",
    "import numpy as np\n",
    "import math\n",
    "import matplotlib.pyplot as plt\n",
    "\n",
    "import warnings\n",
    "warnings.filterwarnings('ignore')"
   ]
  },
  {
   "cell_type": "code",
   "execution_count": 2,
   "id": "2468c859-8e18-4bef-9478-188439d4aee3",
   "metadata": {},
   "outputs": [
    {
     "data": {
      "text/plain": [
       "['test_data.xlsx', '.ipynb_checkpoints']"
      ]
     },
     "execution_count": 2,
     "metadata": {},
     "output_type": "execute_result"
    }
   ],
   "source": [
    "class CFG:\n",
    "    SEED = 2332\n",
    "    Data_dir = Path(\"../data/\")\n",
    "    model_name = \"bert-base-uncased\"\n",
    "    MAX_LEN = 256\n",
    "    BATCH_SIZE = 32\n",
    "    N_SPLITS = 25\n",
    "    RATIO = 1\n",
    "    \n",
    "Data_dir = CFG.Data_dir\n",
    "os.listdir(Data_dir)"
   ]
  },
  {
   "cell_type": "code",
   "execution_count": 3,
   "id": "87879425-ca49-4450-b1cd-18513b00e683",
   "metadata": {},
   "outputs": [
    {
     "data": {
      "text/html": [
       "<div>\n",
       "<style scoped>\n",
       "    .dataframe tbody tr th:only-of-type {\n",
       "        vertical-align: middle;\n",
       "    }\n",
       "\n",
       "    .dataframe tbody tr th {\n",
       "        vertical-align: top;\n",
       "    }\n",
       "\n",
       "    .dataframe thead th {\n",
       "        text-align: right;\n",
       "    }\n",
       "</style>\n",
       "<table border=\"1\" class=\"dataframe\">\n",
       "  <thead>\n",
       "    <tr style=\"text-align: right;\">\n",
       "      <th></th>\n",
       "      <th>类目</th>\n",
       "      <th>标题</th>\n",
       "    </tr>\n",
       "  </thead>\n",
       "  <tbody>\n",
       "    <tr>\n",
       "      <th>0</th>\n",
       "      <td>Pet Hair Trimmer</td>\n",
       "      <td>4 in 1 Pet Hair Clipper With 4 Blades Grooming...</td>\n",
       "    </tr>\n",
       "    <tr>\n",
       "      <th>1</th>\n",
       "      <td>Pet Hair Trimmer</td>\n",
       "      <td>Animal Clipper pet care series sonar sn-270, r...</td>\n",
       "    </tr>\n",
       "    <tr>\n",
       "      <th>2</th>\n",
       "      <td>Pet Hair Trimmer</td>\n",
       "      <td>Babyliss 35007690 block knife set (40mm) Clipp...</td>\n",
       "    </tr>\n",
       "    <tr>\n",
       "      <th>3</th>\n",
       "      <td>Pet Hair Trimmer</td>\n",
       "      <td>Dog Hair Trimmer USB Rechargeable Professional...</td>\n",
       "    </tr>\n",
       "    <tr>\n",
       "      <th>4</th>\n",
       "      <td>Pet Hair Trimmer</td>\n",
       "      <td>Dropshipping Dog Noise-Low Design Pet Hair Cli...</td>\n",
       "    </tr>\n",
       "    <tr>\n",
       "      <th>5</th>\n",
       "      <td>Pet Hair Trimmer</td>\n",
       "      <td>For cutting animals rechargeable-network goods...</td>\n",
       "    </tr>\n",
       "    <tr>\n",
       "      <th>6</th>\n",
       "      <td>Pet Hair Trimmer</td>\n",
       "      <td>Glove quitapelos so pets removes the hair and ...</td>\n",
       "    </tr>\n",
       "    <tr>\n",
       "      <th>7</th>\n",
       "      <td>Pet Hair Trimmer</td>\n",
       "      <td>NANI Pet Clippers Dog, area Dog preparation Ki...</td>\n",
       "    </tr>\n",
       "    <tr>\n",
       "      <th>8</th>\n",
       "      <td>Pet Hair Trimmer</td>\n",
       "      <td>New USB Rechargeable Pet Hair Trimmer for Dogs...</td>\n",
       "    </tr>\n",
       "    <tr>\n",
       "      <th>9</th>\n",
       "      <td>Pet Hair Trimmer</td>\n",
       "      <td>Pet dog clippers electric hair cutting machine...</td>\n",
       "    </tr>\n",
       "  </tbody>\n",
       "</table>\n",
       "</div>"
      ],
      "text/plain": [
       "                  类目                                                 标题\n",
       "0   Pet Hair Trimmer  4 in 1 Pet Hair Clipper With 4 Blades Grooming...\n",
       "1   Pet Hair Trimmer  Animal Clipper pet care series sonar sn-270, r...\n",
       "2   Pet Hair Trimmer  Babyliss 35007690 block knife set (40mm) Clipp...\n",
       "3   Pet Hair Trimmer  Dog Hair Trimmer USB Rechargeable Professional...\n",
       "4   Pet Hair Trimmer  Dropshipping Dog Noise-Low Design Pet Hair Cli...\n",
       "5   Pet Hair Trimmer  For cutting animals rechargeable-network goods...\n",
       "6   Pet Hair Trimmer  Glove quitapelos so pets removes the hair and ...\n",
       "7   Pet Hair Trimmer  NANI Pet Clippers Dog, area Dog preparation Ki...\n",
       "8   Pet Hair Trimmer  New USB Rechargeable Pet Hair Trimmer for Dogs...\n",
       "9   Pet Hair Trimmer  Pet dog clippers electric hair cutting machine..."
      ]
     },
     "execution_count": 3,
     "metadata": {},
     "output_type": "execute_result"
    }
   ],
   "source": [
    "# 类目: Category\n",
    "# 类目: Title\n",
    "df = pd.read_excel(Data_dir/'test_data.xlsx')\n",
    "df.head(10)"
   ]
  },
  {
   "cell_type": "code",
   "execution_count": 4,
   "id": "219fa3f1-1610-4bf4-a00e-3926d9bcf3ab",
   "metadata": {},
   "outputs": [
    {
     "data": {
      "text/plain": [
       "(100003, 2)"
      ]
     },
     "execution_count": 4,
     "metadata": {},
     "output_type": "execute_result"
    }
   ],
   "source": [
    "df.shape"
   ]
  },
  {
   "cell_type": "code",
   "execution_count": 5,
   "id": "276511f9-fe78-4649-919c-7cde85b956e9",
   "metadata": {},
   "outputs": [
    {
     "name": "stdout",
     "output_type": "stream",
     "text": [
      "<class 'pandas.core.frame.DataFrame'>\n",
      "RangeIndex: 100003 entries, 0 to 100002\n",
      "Data columns (total 2 columns):\n",
      " #   Column  Non-Null Count   Dtype \n",
      "---  ------  --------------   ----- \n",
      " 0   类目      100002 non-null  object\n",
      " 1   标题      99970 non-null   object\n",
      "dtypes: object(2)\n",
      "memory usage: 1.5+ MB\n"
     ]
    }
   ],
   "source": [
    "df.info()"
   ]
  },
  {
   "cell_type": "markdown",
   "id": "a085007f-d021-47dc-a0ef-78cfadc2b6bf",
   "metadata": {},
   "source": [
    "**The distribution of the targets**"
   ]
  },
  {
   "cell_type": "code",
   "execution_count": 6,
   "id": "c56d33ea-4024-48dc-aaa7-9b2465870e00",
   "metadata": {},
   "outputs": [
    {
     "data": {
      "text/html": [
       "<div>\n",
       "<style scoped>\n",
       "    .dataframe tbody tr th:only-of-type {\n",
       "        vertical-align: middle;\n",
       "    }\n",
       "\n",
       "    .dataframe tbody tr th {\n",
       "        vertical-align: top;\n",
       "    }\n",
       "\n",
       "    .dataframe thead th {\n",
       "        text-align: right;\n",
       "    }\n",
       "</style>\n",
       "<table border=\"1\" class=\"dataframe\">\n",
       "  <thead>\n",
       "    <tr style=\"text-align: right;\">\n",
       "      <th></th>\n",
       "      <th>类目</th>\n",
       "      <th>Occurrence</th>\n",
       "    </tr>\n",
       "  </thead>\n",
       "  <tbody>\n",
       "    <tr>\n",
       "      <th>0</th>\n",
       "      <td>Home &amp; Garden</td>\n",
       "      <td>19888</td>\n",
       "    </tr>\n",
       "    <tr>\n",
       "      <th>1</th>\n",
       "      <td>Beauty &amp; Health</td>\n",
       "      <td>11266</td>\n",
       "    </tr>\n",
       "    <tr>\n",
       "      <th>2</th>\n",
       "      <td>Automobiles, Parts &amp; Accessories</td>\n",
       "      <td>10570</td>\n",
       "    </tr>\n",
       "    <tr>\n",
       "      <th>3</th>\n",
       "      <td>Consumer Electronics</td>\n",
       "      <td>10438</td>\n",
       "    </tr>\n",
       "    <tr>\n",
       "      <th>4</th>\n",
       "      <td>Computer &amp; Office</td>\n",
       "      <td>6325</td>\n",
       "    </tr>\n",
       "    <tr>\n",
       "      <th>5</th>\n",
       "      <td>Furniture</td>\n",
       "      <td>5017</td>\n",
       "    </tr>\n",
       "    <tr>\n",
       "      <th>6</th>\n",
       "      <td>Home Appliances</td>\n",
       "      <td>3582</td>\n",
       "    </tr>\n",
       "    <tr>\n",
       "      <th>7</th>\n",
       "      <td>Electronic Components &amp; Supplies</td>\n",
       "      <td>3340</td>\n",
       "    </tr>\n",
       "    <tr>\n",
       "      <th>8</th>\n",
       "      <td>EL Products</td>\n",
       "      <td>1575</td>\n",
       "    </tr>\n",
       "    <tr>\n",
       "      <th>9</th>\n",
       "      <td>Electronics Stocks</td>\n",
       "      <td>1486</td>\n",
       "    </tr>\n",
       "    <tr>\n",
       "      <th>10</th>\n",
       "      <td>Apparel Accessories</td>\n",
       "      <td>778</td>\n",
       "    </tr>\n",
       "    <tr>\n",
       "      <th>11</th>\n",
       "      <td>Diodes</td>\n",
       "      <td>765</td>\n",
       "    </tr>\n",
       "    <tr>\n",
       "      <th>12</th>\n",
       "      <td>Dresses</td>\n",
       "      <td>762</td>\n",
       "    </tr>\n",
       "    <tr>\n",
       "      <th>13</th>\n",
       "      <td>Action &amp; Toy Figures</td>\n",
       "      <td>570</td>\n",
       "    </tr>\n",
       "    <tr>\n",
       "      <th>14</th>\n",
       "      <td>Drawstring Bags</td>\n",
       "      <td>472</td>\n",
       "    </tr>\n",
       "    <tr>\n",
       "      <th>15</th>\n",
       "      <td>Gift Sets</td>\n",
       "      <td>418</td>\n",
       "    </tr>\n",
       "    <tr>\n",
       "      <th>16</th>\n",
       "      <td>Card &amp; ID Holders</td>\n",
       "      <td>380</td>\n",
       "    </tr>\n",
       "    <tr>\n",
       "      <th>17</th>\n",
       "      <td>Hair Extensions &amp; Wigs</td>\n",
       "      <td>355</td>\n",
       "    </tr>\n",
       "    <tr>\n",
       "      <th>18</th>\n",
       "      <td>Backpacks</td>\n",
       "      <td>353</td>\n",
       "    </tr>\n",
       "    <tr>\n",
       "      <th>19</th>\n",
       "      <td>Disposable Diapers</td>\n",
       "      <td>351</td>\n",
       "    </tr>\n",
       "    <tr>\n",
       "      <th>20</th>\n",
       "      <td>Flats</td>\n",
       "      <td>345</td>\n",
       "    </tr>\n",
       "    <tr>\n",
       "      <th>21</th>\n",
       "      <td>Earphones &amp; Headphones</td>\n",
       "      <td>328</td>\n",
       "    </tr>\n",
       "    <tr>\n",
       "      <th>22</th>\n",
       "      <td>Car Multimedia Player</td>\n",
       "      <td>326</td>\n",
       "    </tr>\n",
       "    <tr>\n",
       "      <th>23</th>\n",
       "      <td>Cat Dry Food</td>\n",
       "      <td>278</td>\n",
       "    </tr>\n",
       "    <tr>\n",
       "      <th>24</th>\n",
       "      <td>Classics</td>\n",
       "      <td>273</td>\n",
       "    </tr>\n",
       "    <tr>\n",
       "      <th>25</th>\n",
       "      <td>Blocks</td>\n",
       "      <td>269</td>\n",
       "    </tr>\n",
       "    <tr>\n",
       "      <th>26</th>\n",
       "      <td>Digital Wristwatches</td>\n",
       "      <td>265</td>\n",
       "    </tr>\n",
       "    <tr>\n",
       "      <th>27</th>\n",
       "      <td>Candy, Caramel, Lollipops</td>\n",
       "      <td>259</td>\n",
       "    </tr>\n",
       "    <tr>\n",
       "      <th>28</th>\n",
       "      <td>Capacitors</td>\n",
       "      <td>258</td>\n",
       "    </tr>\n",
       "    <tr>\n",
       "      <th>29</th>\n",
       "      <td>Flashlights &amp; Torches</td>\n",
       "      <td>214</td>\n",
       "    </tr>\n",
       "    <tr>\n",
       "      <th>30</th>\n",
       "      <td>Cat Wet Food</td>\n",
       "      <td>190</td>\n",
       "    </tr>\n",
       "    <tr>\n",
       "      <th>31</th>\n",
       "      <td>Coffee Capsules</td>\n",
       "      <td>189</td>\n",
       "    </tr>\n",
       "    <tr>\n",
       "      <th>32</th>\n",
       "      <td>Fishing Tools</td>\n",
       "      <td>183</td>\n",
       "    </tr>\n",
       "    <tr>\n",
       "      <th>33</th>\n",
       "      <td>Chocolate Sweets</td>\n",
       "      <td>182</td>\n",
       "    </tr>\n",
       "    <tr>\n",
       "      <th>34</th>\n",
       "      <td>Fishing Lures</td>\n",
       "      <td>168</td>\n",
       "    </tr>\n",
       "    <tr>\n",
       "      <th>35</th>\n",
       "      <td>Furniture Accessories</td>\n",
       "      <td>167</td>\n",
       "    </tr>\n",
       "    <tr>\n",
       "      <th>36</th>\n",
       "      <td>Casual Pants</td>\n",
       "      <td>166</td>\n",
       "    </tr>\n",
       "    <tr>\n",
       "      <th>37</th>\n",
       "      <td>Cosmetic Bags &amp; Cases</td>\n",
       "      <td>160</td>\n",
       "    </tr>\n",
       "    <tr>\n",
       "      <th>38</th>\n",
       "      <td>Cat Toys</td>\n",
       "      <td>158</td>\n",
       "    </tr>\n",
       "    <tr>\n",
       "      <th>39</th>\n",
       "      <td>Dolls</td>\n",
       "      <td>151</td>\n",
       "    </tr>\n",
       "  </tbody>\n",
       "</table>\n",
       "</div>"
      ],
      "text/plain": [
       "                                  类目  Occurrence\n",
       "0                      Home & Garden       19888\n",
       "1                    Beauty & Health       11266\n",
       "2   Automobiles, Parts & Accessories       10570\n",
       "3               Consumer Electronics       10438\n",
       "4                  Computer & Office        6325\n",
       "5                          Furniture        5017\n",
       "6                    Home Appliances        3582\n",
       "7   Electronic Components & Supplies        3340\n",
       "8                        EL Products        1575\n",
       "9                 Electronics Stocks        1486\n",
       "10               Apparel Accessories         778\n",
       "11                            Diodes         765\n",
       "12                           Dresses         762\n",
       "13              Action & Toy Figures         570\n",
       "14                   Drawstring Bags         472\n",
       "15                         Gift Sets         418\n",
       "16                 Card & ID Holders         380\n",
       "17            Hair Extensions & Wigs         355\n",
       "18                         Backpacks         353\n",
       "19                Disposable Diapers         351\n",
       "20                             Flats         345\n",
       "21            Earphones & Headphones         328\n",
       "22             Car Multimedia Player         326\n",
       "23                      Cat Dry Food         278\n",
       "24                          Classics         273\n",
       "25                            Blocks         269\n",
       "26              Digital Wristwatches         265\n",
       "27         Candy, Caramel, Lollipops         259\n",
       "28                        Capacitors         258\n",
       "29             Flashlights & Torches         214\n",
       "30                      Cat Wet Food         190\n",
       "31                   Coffee Capsules         189\n",
       "32                     Fishing Tools         183\n",
       "33                  Chocolate Sweets         182\n",
       "34                     Fishing Lures         168\n",
       "35             Furniture Accessories         167\n",
       "36                      Casual Pants         166\n",
       "37             Cosmetic Bags & Cases         160\n",
       "38                          Cat Toys         158\n",
       "39                             Dolls         151"
      ]
     },
     "execution_count": 6,
     "metadata": {},
     "output_type": "execute_result"
    }
   ],
   "source": [
    "# Selecting the 45 most popular categories (类目)\n",
    "top_10_df = pd.DataFrame(df.iloc[:, 0].value_counts().sort_values(ascending=False))[:40]\n",
    "top_10_df = top_10_df.reset_index()\n",
    "top_10_df.columns = ['类目', 'Occurrence']\n",
    "top_10_df"
   ]
  },
  {
   "cell_type": "code",
   "execution_count": 7,
   "id": "c2053242-d643-451e-bb91-965a20b4b0e9",
   "metadata": {},
   "outputs": [
    {
     "data": {
      "text/html": [
       "<div>\n",
       "<style scoped>\n",
       "    .dataframe tbody tr th:only-of-type {\n",
       "        vertical-align: middle;\n",
       "    }\n",
       "\n",
       "    .dataframe tbody tr th {\n",
       "        vertical-align: top;\n",
       "    }\n",
       "\n",
       "    .dataframe thead th {\n",
       "        text-align: right;\n",
       "    }\n",
       "</style>\n",
       "<table border=\"1\" class=\"dataframe\">\n",
       "  <thead>\n",
       "    <tr style=\"text-align: right;\">\n",
       "      <th></th>\n",
       "      <th>类目</th>\n",
       "      <th>标题</th>\n",
       "      <th>Occurrence</th>\n",
       "    </tr>\n",
       "  </thead>\n",
       "  <tbody>\n",
       "    <tr>\n",
       "      <th>0</th>\n",
       "      <td>Pet Hair Trimmer</td>\n",
       "      <td>4 in 1 Pet Hair Clipper With 4 Blades Grooming...</td>\n",
       "      <td>13.0</td>\n",
       "    </tr>\n",
       "    <tr>\n",
       "      <th>1</th>\n",
       "      <td>Pet Hair Trimmer</td>\n",
       "      <td>Animal Clipper pet care series sonar sn-270, r...</td>\n",
       "      <td>13.0</td>\n",
       "    </tr>\n",
       "    <tr>\n",
       "      <th>2</th>\n",
       "      <td>Pet Hair Trimmer</td>\n",
       "      <td>Babyliss 35007690 block knife set (40mm) Clipp...</td>\n",
       "      <td>13.0</td>\n",
       "    </tr>\n",
       "    <tr>\n",
       "      <th>3</th>\n",
       "      <td>Pet Hair Trimmer</td>\n",
       "      <td>Dog Hair Trimmer USB Rechargeable Professional...</td>\n",
       "      <td>13.0</td>\n",
       "    </tr>\n",
       "    <tr>\n",
       "      <th>4</th>\n",
       "      <td>Pet Hair Trimmer</td>\n",
       "      <td>Dropshipping Dog Noise-Low Design Pet Hair Cli...</td>\n",
       "      <td>13.0</td>\n",
       "    </tr>\n",
       "  </tbody>\n",
       "</table>\n",
       "</div>"
      ],
      "text/plain": [
       "                  类目                                                 标题  \\\n",
       "0   Pet Hair Trimmer  4 in 1 Pet Hair Clipper With 4 Blades Grooming...   \n",
       "1   Pet Hair Trimmer  Animal Clipper pet care series sonar sn-270, r...   \n",
       "2   Pet Hair Trimmer  Babyliss 35007690 block knife set (40mm) Clipp...   \n",
       "3   Pet Hair Trimmer  Dog Hair Trimmer USB Rechargeable Professional...   \n",
       "4   Pet Hair Trimmer  Dropshipping Dog Noise-Low Design Pet Hair Cli...   \n",
       "\n",
       "   Occurrence  \n",
       "0        13.0  \n",
       "1        13.0  \n",
       "2        13.0  \n",
       "3        13.0  \n",
       "4        13.0  "
      ]
     },
     "execution_count": 7,
     "metadata": {},
     "output_type": "execute_result"
    }
   ],
   "source": [
    "# create a new data frame containing the number of times each product appears\n",
    "# this makes it easy to find specific rows by just using Booleans(<,>,...)\n",
    "overall_df = pd.DataFrame(df.iloc[:, 0]).value_counts()\n",
    "overall_df = overall_df.reset_index()\n",
    "overall_df.columns = ['类目', 'Occurrence']\n",
    "new_df = pd.merge(df, overall_df, on=['类目'], how='left')\n",
    "new_df.head()"
   ]
  },
  {
   "cell_type": "code",
   "execution_count": 8,
   "id": "48b724b7-cabc-485b-b49e-4957fe5a4fa8",
   "metadata": {},
   "outputs": [
    {
     "data": {
      "text/plain": [
       "(83220, 3)"
      ]
     },
     "execution_count": 8,
     "metadata": {},
     "output_type": "execute_result"
    }
   ],
   "source": [
    "# From the 10 most popular product categories, the least popular will be used to select \n",
    "# rows that are at least above it.\n",
    "\n",
    "min_occ = top_10_df['Occurrence'].min()\n",
    "new_df = (\n",
    "    new_df\n",
    "    .loc[(new_df['Occurrence'] >= min_occ)]\n",
    "    .sort_values(by='Occurrence', ascending=True)\n",
    "    .reset_index(drop=True))\n",
    "\n",
    "new_df.shape"
   ]
  },
  {
   "cell_type": "code",
   "execution_count": 9,
   "id": "e0285e8f-f9aa-42d1-99f9-0d4f835823fa",
   "metadata": {},
   "outputs": [
    {
     "data": {
      "text/html": [
       "<div>\n",
       "<style scoped>\n",
       "    .dataframe tbody tr th:only-of-type {\n",
       "        vertical-align: middle;\n",
       "    }\n",
       "\n",
       "    .dataframe tbody tr th {\n",
       "        vertical-align: top;\n",
       "    }\n",
       "\n",
       "    .dataframe thead th {\n",
       "        text-align: right;\n",
       "    }\n",
       "</style>\n",
       "<table border=\"1\" class=\"dataframe\">\n",
       "  <thead>\n",
       "    <tr style=\"text-align: right;\">\n",
       "      <th></th>\n",
       "      <th>类目</th>\n",
       "      <th>标题</th>\n",
       "      <th>Occurrence</th>\n",
       "    </tr>\n",
       "  </thead>\n",
       "  <tbody>\n",
       "  </tbody>\n",
       "</table>\n",
       "</div>"
      ],
      "text/plain": [
       "Empty DataFrame\n",
       "Columns: [类目, 标题, Occurrence]\n",
       "Index: []"
      ]
     },
     "execution_count": 9,
     "metadata": {},
     "output_type": "execute_result"
    }
   ],
   "source": [
    "# check for missing values \n",
    "# the missing rows in the data\n",
    "new_df[new_df.isnull().any(axis=1)]"
   ]
  },
  {
   "cell_type": "code",
   "execution_count": 10,
   "id": "a14c3b4b-e54b-4908-867f-e5fe159a9cb5",
   "metadata": {},
   "outputs": [
    {
     "data": {
      "text/plain": [
       "0    [CLS] Doll enchantimals base with pet сэйдж ск...\n",
       "1    [CLS] L.O.L. Surprise 566977 pupa remix hairfl...\n",
       "2    [CLS] L.O.L. Surprise winter chill spaces-4 11...\n",
       "3         [CLS] LOL Surprise set advent calendar [SEP]\n",
       "4                 [CLS] Machine Barbie ambulance [SEP]\n",
       "Name: input, dtype: object"
      ]
     },
     "execution_count": 10,
     "metadata": {},
     "output_type": "execute_result"
    }
   ],
   "source": [
    "# using the description of the items as inputs\n",
    "# for bert, input is represented as [CLS] + \" \" + [SEP] + \" \" + [SEP]\n",
    "new_df['input'] = '[CLS] ' + new_df.标题.astype('str') + ' [SEP]'\n",
    "new_df['input'].head()"
   ]
  },
  {
   "cell_type": "markdown",
   "id": "d276d8ea-ba7e-48b2-813b-32f174bd0b57",
   "metadata": {},
   "source": [
    "**Tokenize the categories into numbers**\n",
    "\n",
    "This can be done using pandas .factorize()\n",
    "\n",
    "*.factorize()* usually returns the (array, index of the words), but it's the array that's needed"
   ]
  },
  {
   "cell_type": "code",
   "execution_count": 11,
   "id": "03be9bd7-d668-4965-8804-6198d7c29a99",
   "metadata": {},
   "outputs": [
    {
     "data": {
      "text/plain": [
       "array([ 0,  1,  2,  3,  4,  5,  6,  7,  8,  9, 10, 11, 12, 13, 14, 15, 16,\n",
       "       17, 18, 19, 20, 21, 22, 23, 24, 25, 26, 27, 28, 29, 30, 31, 32, 33,\n",
       "       34, 35, 36, 37, 38, 39])"
      ]
     },
     "execution_count": 11,
     "metadata": {},
     "output_type": "execute_result"
    }
   ],
   "source": [
    "# Creating a new column label since Hugging face transformers requires target columns to be named as label\n",
    "# that is used to represent the specific product categories\n",
    " \n",
    "new_df['label'] = new_df['类目'].factorize()[0]\n",
    "new_df['label'].unique() # just to confirm that 100 products have been selected"
   ]
  },
  {
   "cell_type": "code",
   "execution_count": 12,
   "id": "97a0dbe0-0c1f-4d57-9187-e946864b16e0",
   "metadata": {},
   "outputs": [],
   "source": [
    "# store the corresponding ids and categories for future use"
   ]
  },
  {
   "cell_type": "code",
   "execution_count": 13,
   "id": "f076037a-afc7-43a2-b852-accb730c0585",
   "metadata": {},
   "outputs": [],
   "source": [
    "category_to_label = dict(new_df[['类目', 'label']].values)\n",
    "label_to_category = {v: k for k, v in category_to_label.items()}"
   ]
  },
  {
   "cell_type": "markdown",
   "id": "ee92398a-27f9-4f0d-94cf-42e75044d32e",
   "metadata": {},
   "source": [
    "**Splitting the data into Train, Validation and Test sets**\n",
    "\n",
    "Since this is a classification problem, I will be testing different versions of the Stratify"
   ]
  },
  {
   "cell_type": "code",
   "execution_count": 14,
   "id": "837a22dc-9340-4502-a194-eefc416f67e2",
   "metadata": {},
   "outputs": [
    {
     "data": {
      "application/vnd.jupyter.widget-view+json": {
       "model_id": "f75045a4e2c84ab09c30bc4baba80861",
       "version_major": 2,
       "version_minor": 0
      },
      "text/plain": [
       "  0%|          | 0/25 [00:00<?, ?it/s]"
      ]
     },
     "metadata": {},
     "output_type": "display_data"
    }
   ],
   "source": [
    "from sklearn.model_selection import StratifiedKFold, StratifiedShuffleSplit\n",
    "\n",
    "# sample 10% of the data to be used for further computation\n",
    "new_df = new_df.sample(frac=CFG.RATIO, random_state=CFG.SEED).reset_index(drop=True)\n",
    "\n",
    "cv = StratifiedShuffleSplit(n_splits=CFG.N_SPLITS)\n",
    "\n",
    "# to avoid data leakage, the titles or just the training data will not be exposed\n",
    "X = new_df.index.values \n",
    "y = new_df.iloc[:, 0].values\n",
    "\n",
    "new_df['fold'] = -1\n",
    "\n",
    "for fold, (tr_idx, val_idx) in enumerate(tqdm(cv.split(X, y), file=sys.stdout, total=CFG.N_SPLITS)):\n",
    "    new_df.iloc[val_idx, -1] = fold"
   ]
  },
  {
   "cell_type": "code",
   "execution_count": 15,
   "id": "d8c0eb6c-d458-497f-9314-1d5c8ebce6b4",
   "metadata": {},
   "outputs": [],
   "source": [
    "# checking the distribution of the folds\n",
    "# new_df['fold'].value_counts()"
   ]
  },
  {
   "cell_type": "code",
   "execution_count": 16,
   "id": "25663b6b-6644-43be-954f-7110f3796a05",
   "metadata": {},
   "outputs": [],
   "source": [
    "# now creating the splits\n",
    "new_df['stage'] = new_df['fold'].apply(lambda x: 'test' if x==7 else ('valid' if x == 15 else 'train'))\n",
    "\n",
    "train_df = new_df[new_df['stage'] == 'train']\n",
    "valid_df = new_df[new_df['stage'] == 'valid']\n",
    "test_df = new_df[new_df['stage'] == 'test']\n",
    "\n",
    "# new_df['stage'].value_counts()"
   ]
  },
  {
   "cell_type": "code",
   "execution_count": 17,
   "id": "9cfda23f-4642-4ace-a336-12f127009dcf",
   "metadata": {},
   "outputs": [],
   "source": [
    "# drop off the fold and stage columns from the train, valid and test sets\n",
    "train_df.drop(['fold', 'stage'], axis=1, inplace=True)\n",
    "valid_df.drop(['fold', 'stage'], axis=1, inplace=True)\n",
    "test_df.drop(['fold', 'stage'], axis=1, inplace=True)"
   ]
  },
  {
   "cell_type": "markdown",
   "id": "38edd2e5-6961-4c19-9903-caafc5b3bcef",
   "metadata": {},
   "source": [
    "**Classical Machine learning algorithms**"
   ]
  },
  {
   "cell_type": "code",
   "execution_count": 18,
   "id": "dd3fd860-da23-4c57-a063-6f38414e940c",
   "metadata": {},
   "outputs": [],
   "source": [
    "from sklearn.feature_extraction.text import TfidfVectorizer\n",
    "\n",
    "vectorizer = TfidfVectorizer(sublinear_tf=True,\n",
    "                            min_df=5,\n",
    "                            ngram_range=(1, 2),\n",
    "                            stop_words='english')\n",
    "\n",
    "vectorizer.fit(train_df['input'])\n",
    "X_train = vectorizer.transform(train_df['input']).toarray()\n",
    "X_valid = vectorizer.transform(valid_df['input']).toarray()\n",
    "X_test = vectorizer.transform(test_df['input']).toarray()"
   ]
  },
  {
   "cell_type": "code",
   "execution_count": 19,
   "id": "edb11c82-84ae-4d48-b291-40bbb8dbda4a",
   "metadata": {},
   "outputs": [],
   "source": [
    "y_train = train_df['label']; y_valid = valid_df['label']; y_test = test_df['label']"
   ]
  },
  {
   "cell_type": "code",
   "execution_count": 20,
   "id": "a56abd1c-83ed-4df7-8485-7b2e5691e03b",
   "metadata": {},
   "outputs": [],
   "source": [
    "from sklearn.ensemble import HistGradientBoostingClassifier, BaggingClassifier\n",
    "from sklearn.naive_bayes import MultinomialNB, ComplementNB, GaussianNB\n",
    "from sklearn.metrics import classification_report\n",
    "from xgboost import XGBClassifier"
   ]
  },
  {
   "cell_type": "code",
   "execution_count": 21,
   "id": "6fad8a42-b269-4288-ab3e-4a7a5019a95c",
   "metadata": {},
   "outputs": [],
   "source": [
    "# %%time\n",
    "# bag_clf = HistGradientBoostingClassifier().fit(X_train, y_train)\n",
    "# bag_preds = bag_clf.predict(X_valid)\n",
    "\n",
    "# print(\"BaggingBoostingClassifier\\n\")\n",
    "# print(classification_report(y_valid, bag_preds, target_names=new_df['类目'].unique()))"
   ]
  },
  {
   "cell_type": "code",
   "execution_count": 22,
   "id": "5cfab821-14ce-46c8-8983-5146b875d7c5",
   "metadata": {},
   "outputs": [
    {
     "name": "stdout",
     "output_type": "stream",
     "text": [
      "MultinomialNB\n",
      "\n",
      "                                  precision    recall  f1-score   support\n",
      "\n",
      "            Consumer Electronics       1.00      0.50      0.67         6\n",
      "                      Capacitors       1.00      0.56      0.71         9\n",
      "                   Home & Garden       1.00      1.00      1.00         5\n",
      "Automobiles, Parts & Accessories       0.89      1.00      0.94         8\n",
      "                       Gift Sets       0.00      0.00      0.00         4\n",
      "                 Beauty & Health       0.78      1.00      0.88         7\n",
      "                       Furniture       0.78      0.58      0.67        12\n",
      "                        Classics       1.00      0.71      0.83         7\n",
      "           Furniture Accessories       0.70      1.00      0.82         7\n",
      "                       Backpacks       1.00      0.62      0.77         8\n",
      "            Digital Wristwatches       1.00      0.73      0.84        11\n",
      "               Computer & Office       0.86      1.00      0.92         6\n",
      "Electronic Components & Supplies       0.73      0.73      0.73        11\n",
      "             Apparel Accessories       0.75      0.69      0.72        13\n",
      "                 Home Appliances       0.80      0.92      0.86        13\n",
      "                        Cat Toys       0.20      0.17      0.18         6\n",
      "                           Flats       0.88      0.88      0.88        17\n",
      "                Chocolate Sweets       1.00      0.42      0.59        12\n",
      "                     EL Products       0.00      0.00      0.00         8\n",
      "                         Dresses       0.93      0.81      0.87        16\n",
      "              Disposable Diapers       1.00      1.00      1.00        15\n",
      "                 Coffee Capsules       0.93      0.81      0.87        16\n",
      "                 Drawstring Bags       1.00      1.00      1.00        14\n",
      "           Cosmetic Bags & Cases       1.00      0.93      0.96        14\n",
      "          Hair Extensions & Wigs       0.83      0.95      0.88        20\n",
      "              Electronics Stocks       0.95      0.95      0.95        21\n",
      "           Car Multimedia Player       0.93      0.67      0.78        21\n",
      "                   Fishing Tools       0.96      0.93      0.95        28\n",
      "               Card & ID Holders       0.91      0.94      0.93        34\n",
      "          Earphones & Headphones       0.86      0.91      0.88        33\n",
      "                    Cat Dry Food       0.97      0.57      0.72        56\n",
      "            Action & Toy Figures       0.93      0.62      0.74        65\n",
      "                          Diodes       0.81      0.83      0.82       132\n",
      "                          Blocks       0.89      0.83      0.86       144\n",
      "                    Casual Pants       0.90      0.98      0.94       185\n",
      "                   Fishing Lures       0.89      0.92      0.91       247\n",
      "           Flashlights & Torches       0.89      0.94      0.92       434\n",
      "                           Dolls       0.94      0.96      0.95       426\n",
      "       Candy, Caramel, Lollipops       0.91      0.97      0.94       430\n",
      "                    Cat Wet Food       0.94      0.93      0.93       746\n",
      "\n",
      "                        accuracy                           0.91      3267\n",
      "                       macro avg       0.84      0.77      0.79      3267\n",
      "                    weighted avg       0.91      0.91      0.90      3267\n",
      "\n",
      "CPU times: user 44.5 s, sys: 5.55 s, total: 50.1 s\n",
      "Wall time: 22.1 s\n"
     ]
    }
   ],
   "source": [
    "%%time\n",
    "bayes_clf = ComplementNB().fit((X_train), y_train)\n",
    "bayes_preds = bayes_clf.predict((X_valid))\n",
    "\n",
    "print(\"MultinomialNB\\n\")\n",
    "print(classification_report(y_valid, bayes_preds, target_names=new_df['类目'].unique()))"
   ]
  },
  {
   "cell_type": "markdown",
   "id": "11404574-182c-49d3-8cd1-5e22c8d63257",
   "metadata": {},
   "source": [
    "**Inference using the Naive bayes complementNB**"
   ]
  },
  {
   "cell_type": "code",
   "execution_count": 24,
   "id": "f44e8b67-fbc2-4d43-b99d-6922e340d85b",
   "metadata": {},
   "outputs": [],
   "source": [
    "# test_preds = bayes_clf.predict(X_test)\n",
    "\n",
    "# print(\"Inference on my select test set\\n\")\n",
    "# print(classification_report(y_test, test_preds, target_names=new_df['类目'].unique()))"
   ]
  },
  {
   "cell_type": "markdown",
   "id": "5362971a-0b61-40f8-9ed1-00c5ad8f2c9c",
   "metadata": {},
   "source": [
    "**Model performance with no tweaking**\n",
    "\n",
    "*Naive bayes*\n",
    "\n",
    "    - The biggest challenge is ensuring that the unique targets belong to all the dataset\n",
    "\n",
    "    - Training on 40 targets and the whole dataset, the model doesn't perform but still it times of running time, it's all under 1 month\n",
    "    \n",
    "    - Naive Bayes rocks. \n",
    "    \n",
    "    - StratifiedShuffleSplit takes the performance to the next level, am currently getting the best scores using StratifiedShuffleSplit, performance is less with 5s \n",
    "\n",
    "    - When the number of targets increases, all the metrics drastically improve and running time is still less than 5s\n",
    "\n",
    "    - With increase in the data, it still gets better, so far with 40% of the data, running times are all less than 5s and all metrics improve \n",
    "\n",
    "    *MultiNominalNB*\n",
    "    - Faster running time with wall time of 68.8 ms and total: 143 ms \n",
    "    \n",
    "    - Also very good precision, recall and f1-score \n",
    "    \n",
    "    *ComplementNB*\n",
    "    \n",
    "    - The faster than Multinominal, Wall time: 53.1 ms, total: 129 ms even with sampling of 25% of the data\n",
    "    \n",
    "    - Also far superior metrics (f1-score)\n",
    "    \n",
    "    *GaussianNB*\n",
    "    \n",
    "    - Performs poorly compared to the other Naive Bayes techniques but still much better than the Gradient Boosting machines \n",
    "    \n",
    "    - Increasing the number of splits from 10 to 15 improves the recall, while the precision improves slowly.\n",
    "    \n",
    "\n",
    "*Bagging*\n",
    "\n",
    "    -Wall: 1min 36s (faster than HistGradient by far)\n",
    "    \n",
    "    - Higher precision, recall and f1-score compared to the HistGradient\n",
    "    \n",
    "*Bonus*: Transforming the data by MinMax doesn't contribute that much to the performance of the model"
   ]
  },
  {
   "cell_type": "markdown",
   "id": "dee689d9-a892-4957-aa19-0b0b35310a62",
   "metadata": {},
   "source": [
    "**Saving the Model**\n",
    "\n",
    "Using pickle to save the model"
   ]
  },
  {
   "cell_type": "code",
   "execution_count": 25,
   "id": "ed46ba36-5136-4695-84e7-4555822cdb9a",
   "metadata": {},
   "outputs": [],
   "source": [
    "import pickle\n",
    "\n",
    "pickle.dump(bayes_clf, open('bayes_clf.pkl', 'wb'))"
   ]
  },
  {
   "cell_type": "code",
   "execution_count": 28,
   "id": "8a7ca078-057f-4504-83fa-64d314b600c3",
   "metadata": {},
   "outputs": [],
   "source": [
    "# loading the model\n",
    "model = pickle.load(open('bayes_clf.pkl', 'rb'))  # load the trained model\n",
    "\n",
    "# drop columns that are no longer needed\n",
    "new_df.drop(['Occurrence', 'fold', 'stage'], axis=1, inplace=True)"
   ]
  },
  {
   "cell_type": "code",
   "execution_count": 29,
   "id": "e93de22c-145e-4648-96c7-8ea85b05b18e",
   "metadata": {},
   "outputs": [],
   "source": [
    "X_full_data = vectorizer.transform(new_df['input'])\n",
    "\n",
    "# predicting the 40 most popular product categories\n",
    "predictions = model.predict(X_full_data)"
   ]
  },
  {
   "cell_type": "code",
   "execution_count": 31,
   "id": "a871c1e3-948d-411f-92ba-20d7a4a8ff8d",
   "metadata": {},
   "outputs": [
    {
     "data": {
      "text/html": [
       "<div>\n",
       "<style scoped>\n",
       "    .dataframe tbody tr th:only-of-type {\n",
       "        vertical-align: middle;\n",
       "    }\n",
       "\n",
       "    .dataframe tbody tr th {\n",
       "        vertical-align: top;\n",
       "    }\n",
       "\n",
       "    .dataframe thead th {\n",
       "        text-align: right;\n",
       "    }\n",
       "</style>\n",
       "<table border=\"1\" class=\"dataframe\">\n",
       "  <thead>\n",
       "    <tr style=\"text-align: right;\">\n",
       "      <th></th>\n",
       "      <th>类目</th>\n",
       "      <th>标题</th>\n",
       "      <th>input</th>\n",
       "      <th>label</th>\n",
       "      <th>predictions</th>\n",
       "    </tr>\n",
       "  </thead>\n",
       "  <tbody>\n",
       "    <tr>\n",
       "      <th>0</th>\n",
       "      <td>Consumer Electronics</td>\n",
       "      <td>T95 TV Box Android 10.0 H616 Quad Core 2.4G Wi...</td>\n",
       "      <td>[CLS] T95 TV Box Android 10.0 H616 Quad Core 2...</td>\n",
       "      <td>36</td>\n",
       "      <td>36</td>\n",
       "    </tr>\n",
       "    <tr>\n",
       "      <th>1</th>\n",
       "      <td>Capacitors</td>\n",
       "      <td>10pcs Film capacitors К73-17 CL21 400V 15nF 22...</td>\n",
       "      <td>[CLS] 10pcs Film capacitors К73-17 CL21 400V 1...</td>\n",
       "      <td>11</td>\n",
       "      <td>32</td>\n",
       "    </tr>\n",
       "    <tr>\n",
       "      <th>2</th>\n",
       "      <td>Home &amp; Garden</td>\n",
       "      <td>Rodanny Dog Car Seat Cover Waterproof Folding ...</td>\n",
       "      <td>[CLS] Rodanny Dog Car Seat Cover Waterproof Fo...</td>\n",
       "      <td>39</td>\n",
       "      <td>39</td>\n",
       "    </tr>\n",
       "    <tr>\n",
       "      <th>3</th>\n",
       "      <td>Home &amp; Garden</td>\n",
       "      <td>Pet Dog Cat Feeder Bowl With Water Bottle Auto...</td>\n",
       "      <td>[CLS] Pet Dog Cat Feeder Bowl With Water Bottl...</td>\n",
       "      <td>39</td>\n",
       "      <td>39</td>\n",
       "    </tr>\n",
       "    <tr>\n",
       "      <th>4</th>\n",
       "      <td>Automobiles, Parts &amp; Accessories</td>\n",
       "      <td>SRXTZM New 12v 18A Max.120W Female Car Cigaret...</td>\n",
       "      <td>[CLS] SRXTZM New 12v 18A Max.120W Female Car C...</td>\n",
       "      <td>37</td>\n",
       "      <td>37</td>\n",
       "    </tr>\n",
       "    <tr>\n",
       "      <th>5</th>\n",
       "      <td>Gift Sets</td>\n",
       "      <td>Candy Cane jet's, 42g</td>\n",
       "      <td>[CLS] Candy Cane jet's, 42g [SEP]</td>\n",
       "      <td>24</td>\n",
       "      <td>24</td>\n",
       "    </tr>\n",
       "    <tr>\n",
       "      <th>6</th>\n",
       "      <td>Beauty &amp; Health</td>\n",
       "      <td>Korea Lip Sleeping Mask Moisturizing Lip Balm ...</td>\n",
       "      <td>[CLS] Korea Lip Sleeping Mask Moisturizing Lip...</td>\n",
       "      <td>38</td>\n",
       "      <td>38</td>\n",
       "    </tr>\n",
       "    <tr>\n",
       "      <th>7</th>\n",
       "      <td>Furniture</td>\n",
       "      <td>20 cm 4Pcs Duty Plastic Strong Loading Furnitu...</td>\n",
       "      <td>[CLS] 20 cm 4Pcs Duty Plastic Strong Loading F...</td>\n",
       "      <td>34</td>\n",
       "      <td>34</td>\n",
       "    </tr>\n",
       "    <tr>\n",
       "      <th>8</th>\n",
       "      <td>Classics</td>\n",
       "      <td>PLASTIC 2°PRIMARIA. PIECE To PIECE</td>\n",
       "      <td>[CLS] PLASTIC 2°PRIMARIA. PIECE To PIECE [SEP]</td>\n",
       "      <td>15</td>\n",
       "      <td>39</td>\n",
       "    </tr>\n",
       "    <tr>\n",
       "      <th>9</th>\n",
       "      <td>Home &amp; Garden</td>\n",
       "      <td>202525-Cat &amp; Doglife For Cats Neck Collar Ring...</td>\n",
       "      <td>[CLS] 202525-Cat &amp; Doglife For Cats Neck Colla...</td>\n",
       "      <td>39</td>\n",
       "      <td>39</td>\n",
       "    </tr>\n",
       "  </tbody>\n",
       "</table>\n",
       "</div>"
      ],
      "text/plain": [
       "                                 类目  \\\n",
       "0              Consumer Electronics   \n",
       "1                        Capacitors   \n",
       "2                     Home & Garden   \n",
       "3                     Home & Garden   \n",
       "4  Automobiles, Parts & Accessories   \n",
       "5                         Gift Sets   \n",
       "6                   Beauty & Health   \n",
       "7                         Furniture   \n",
       "8                          Classics   \n",
       "9                     Home & Garden   \n",
       "\n",
       "                                                  标题  \\\n",
       "0  T95 TV Box Android 10.0 H616 Quad Core 2.4G Wi...   \n",
       "1  10pcs Film capacitors К73-17 CL21 400V 15nF 22...   \n",
       "2  Rodanny Dog Car Seat Cover Waterproof Folding ...   \n",
       "3  Pet Dog Cat Feeder Bowl With Water Bottle Auto...   \n",
       "4  SRXTZM New 12v 18A Max.120W Female Car Cigaret...   \n",
       "5                              Candy Cane jet's, 42g   \n",
       "6  Korea Lip Sleeping Mask Moisturizing Lip Balm ...   \n",
       "7  20 cm 4Pcs Duty Plastic Strong Loading Furnitu...   \n",
       "8                 PLASTIC 2°PRIMARIA. PIECE To PIECE   \n",
       "9  202525-Cat & Doglife For Cats Neck Collar Ring...   \n",
       "\n",
       "                                               input  label  predictions  \n",
       "0  [CLS] T95 TV Box Android 10.0 H616 Quad Core 2...     36           36  \n",
       "1  [CLS] 10pcs Film capacitors К73-17 CL21 400V 1...     11           32  \n",
       "2  [CLS] Rodanny Dog Car Seat Cover Waterproof Fo...     39           39  \n",
       "3  [CLS] Pet Dog Cat Feeder Bowl With Water Bottl...     39           39  \n",
       "4  [CLS] SRXTZM New 12v 18A Max.120W Female Car C...     37           37  \n",
       "5                  [CLS] Candy Cane jet's, 42g [SEP]     24           24  \n",
       "6  [CLS] Korea Lip Sleeping Mask Moisturizing Lip...     38           38  \n",
       "7  [CLS] 20 cm 4Pcs Duty Plastic Strong Loading F...     34           34  \n",
       "8     [CLS] PLASTIC 2°PRIMARIA. PIECE To PIECE [SEP]     15           39  \n",
       "9  [CLS] 202525-Cat & Doglife For Cats Neck Colla...     39           39  "
      ]
     },
     "execution_count": 31,
     "metadata": {},
     "output_type": "execute_result"
    }
   ],
   "source": [
    "# add the predictions to the test\n",
    "new_df['predictions'] = predictions\n",
    "new_df.to_excel('Predicted_data.xlsx', index=False)\n",
    "pd.read_excel('Predicted_data.xlsx').head(10)"
   ]
  },
  {
   "cell_type": "markdown",
   "id": "4efd6b5c-69cd-4389-a377-dd5de4e914a3",
   "metadata": {},
   "source": [
    "**Preparation for Bert**\n",
    "\n",
    "*Tokenization* using *BertTokenizer*"
   ]
  },
  {
   "cell_type": "code",
   "execution_count": null,
   "id": "0906db72-e0cf-4717-b781-ee8bd3aa8b30",
   "metadata": {},
   "outputs": [],
   "source": [
    "# Due to shortage of GPU compute on sagemaker labs, \n",
    "# from transformers import BertForSequenceClassification, BertTokenizer\n",
    "\n",
    "# tokenizer = BertTokenizer.from_pretrained(CFG.model_name)\n",
    "# tokenizer"
   ]
  },
  {
   "cell_type": "code",
   "execution_count": null,
   "id": "bcc7d273-cc75-43f9-8224-54f57f61889a",
   "metadata": {},
   "outputs": [],
   "source": [
    "# # function to encode\n",
    "# def encode_func(data):\n",
    "#     encoded = tokenizer.batch_encode_plus(data,\n",
    "#                                          add_special_tokens=True,\n",
    "#                                          max_length=CFG.MAX_LEN,\n",
    "#                                          padding=\"max_length\",\n",
    "#                                          return_attention_mask=True,\n",
    "#                                          truncation=True,\n",
    "#                                          return_tensors='pt')\n",
    "    \n",
    "#     input_ids = encoded['input_ids']\n",
    "#     attention_mask = encoded['attention_mask']\n",
    "#     return input_ids, attention_mask"
   ]
  },
  {
   "cell_type": "code",
   "execution_count": null,
   "id": "884f5844-2b33-46b6-a0ec-cb23b7a16904",
   "metadata": {},
   "outputs": [],
   "source": [
    "# # encoding the datasets\n",
    "# train_input_ids, train_attn_masks = encode_func(train_df['input'].values.tolist())\n",
    "# valid_input_ids, valid_attn_masks = encode_func(valid_df['input'].values.tolist())\n",
    "# test_input_ids, test_attn_masks = encode_func(test_df['input'].values.tolist())"
   ]
  },
  {
   "cell_type": "code",
   "execution_count": null,
   "id": "4581352a-bcc4-46ad-867e-cb3b5144d735",
   "metadata": {},
   "outputs": [],
   "source": [
    "# # creating Datasets and Dataloaders\n",
    "# import torch\n",
    "# from torch.utils.data import Dataset, DataLoader, TensorDataset, RandomSampler, SequentialSampler\n",
    "\n",
    "# # turing the labels into tensors\n",
    "# y_train = torch.LongTensor(train_df['label'].values.tolist())\n",
    "# y_valid = torch.LongTensor(valid_df['label'].values.tolist())\n",
    "# y_test = torch.LongTensor(test_df['label'].values.tolist())"
   ]
  },
  {
   "cell_type": "code",
   "execution_count": null,
   "id": "e052eb10-4379-45c4-b85d-a50a14a3a648",
   "metadata": {},
   "outputs": [],
   "source": [
    "# # create dataloaders for training\n",
    "# trainDataset = TensorDataset(train_input_ids, train_attn_masks, y_train)\n",
    "# trainSampler = RandomSampler(trainDataset)\n",
    "# trainDataloader = DataLoader(trainDataset, sampler=trainSampler, batch_size=CFG.BATCH_SIZE)\n",
    "\n",
    "# # creating validation dataloaders\n",
    "# validDataset = TensorDataset(valid_input_ids, valid_attn_masks, y_valid)\n",
    "# validSampler = RandomSampler(validDataset)\n",
    "# validDataloader = DataLoader(validDataset, sampler=validSampler, batch_size=CFG.BATCH_SIZE)\n",
    "\n",
    "# # creating test dataloader\n",
    "# testDataset = TensorDataset(test_input_ids, test_attn_masks, y_test)\n",
    "# testSampler = RandomSampler(testDataset)\n",
    "# testDataloader = DataLoader(testDataset, sampler=testSampler, batch_size=CFG.BATCH_SIZE)"
   ]
  },
  {
   "cell_type": "code",
   "execution_count": null,
   "id": "e9dbfc7b-339b-470e-b9d2-3cb75d06b675",
   "metadata": {},
   "outputs": [],
   "source": [
    "# # baseline bert model\n",
    "# N_labels = len(train_df.label.unique())\n",
    "\n",
    "# model = BertForSequenceClassification.from_pretrained(CFG.model_name,\n",
    "#                                                      num_labels=N_labels,\n",
    "#                                                      output_attentions=False,\n",
    "#                                                      output_hidden_states=False)"
   ]
  },
  {
   "cell_type": "code",
   "execution_count": null,
   "id": "0a573d79-abe0-4542-b938-d026b888f985",
   "metadata": {},
   "outputs": [],
   "source": [
    "# device = torch.device('cuda' if torch.cuda.is_available() else 'cpu')\n",
    "# print(f\"Using {device}\")"
   ]
  },
  {
   "cell_type": "code",
   "execution_count": null,
   "id": "0d5765a6-f1ae-4a0d-8de4-1b82dcbcbdeb",
   "metadata": {},
   "outputs": [],
   "source": [
    "# # setting up the optimizer\n",
    "# from torch.optim import AdamW\n",
    "# from transformers import get_linear_schedule_with_warmup\n",
    "\n",
    "# Epochs = 5\n",
    "# LR = 1e-5\n",
    "\n",
    "# optimizer = AdamW(model.parameters(), lr=LR)\n",
    "# scheduler = get_linear_schedule_with_warmup(optimizer,\n",
    "#                                            num_warmup_steps=0,\n",
    "#                                            num_training_steps=len(trainDataloader)*Epochs)"
   ]
  },
  {
   "cell_type": "code",
   "execution_count": null,
   "id": "1ebbc02b-12db-4e9c-ade7-38d6e70fd824",
   "metadata": {},
   "outputs": [],
   "source": [
    "# # training loop\n",
    "# from torch.nn.utils import clip_grad_norm_\n",
    "\n",
    "# train_loss_per_epoch = []\n",
    "# valid_loss_per_epoch = []\n",
    "\n",
    "# for epoch in range(Epochs):\n",
    "#     print(f'Epoch {epoch+1}')\n",
    "    \n",
    "#     # Training loop\n",
    "#     model.train()\n",
    "#     train_loss = 0\n",
    "#     for step, batch in enumerate(tqdm(trainDataloader, desc='training', file=sys.stdout)):\n",
    "#         input_ids, attn_mask, labels = [data.to(device) for data in batch]\n",
    "#         output = model(input_ids = input_ids, attention_mask = attn_mask, labels=labels)\n",
    "        \n",
    "#         loss = output.loss\n",
    "#         train_loss += loss.item()\n",
    "        \n",
    "#         optimizer.zero_grad()\n",
    "#         loss.backward()\n",
    "#         del loss\n",
    "        \n",
    "#         clip_grad_norm_(parameters=model.parameters(), max_norm=1.0)\n",
    "#         optimizer.step()\n",
    "#         scheduler.step()\n",
    "        \n",
    "#     train_loss_per_epoch.append(train_loss/(step+1))\n",
    "    \n",
    "#     # Validation loop\n",
    "#     model.eval()\n",
    "#     valid_loss = 0\n",
    "#     valid_pred = []\n",
    "#     with torch.no_grad():\n",
    "#         for step_val, batch in enumerate(validDataloader, desc='validation', file=sys.stdout):\n",
    "#             input_ids, attn_mask, labels = [data.to(device) for data in batch]\n",
    "#             output = model(input_ids=inputs_ids, attention_mask=attn_mask, labels=labels)\n",
    "            \n",
    "#             loss = output.loss\n",
    "#             valid_loss += loss.item()\n",
    "            \n",
    "#             valid_pred.append(np.argmax(output.logits.cpu().detach().numpy(), axis=-1))\n",
    "            \n",
    "#     valid_loss_per_epoch.append(valid_loss/(step_val+1))\n",
    "#     valid_pred = np.concatenate(valid_pred)\n",
    "    \n",
    "#     # output message\n",
    "#     print(f\"{step+1}/{math.ceil(len(train_df)/CFG.BATCH_SIZE)} train loss {train_loss/(step+1)}\")\n",
    "#     print(f\"{step_val+1}/{math.ceil(len(valid_df)/CFG.BATCH_SIZE)} train loss {valid_loss/(step_val)}\")"
   ]
  },
  {
   "cell_type": "code",
   "execution_count": null,
   "id": "d469746a-13fe-4098-b213-93b7641e99dc",
   "metadata": {},
   "outputs": [],
   "source": [
    "# for batch in trainDataloader:\n",
    "#     break"
   ]
  },
  {
   "cell_type": "code",
   "execution_count": null,
   "id": "6853b2e8-d897-4579-9bf9-cee7ab7adf38",
   "metadata": {},
   "outputs": [],
   "source": [
    "# batch"
   ]
  },
  {
   "cell_type": "code",
   "execution_count": null,
   "id": "c12b1a4b-a15a-446f-b428-e888aaa04712",
   "metadata": {},
   "outputs": [],
   "source": []
  }
 ],
 "metadata": {
  "kernelspec": {
   "display_name": "default:Python",
   "language": "python",
   "name": "conda-env-default-py"
  },
  "language_info": {
   "codemirror_mode": {
    "name": "ipython",
    "version": 3
   },
   "file_extension": ".py",
   "mimetype": "text/x-python",
   "name": "python",
   "nbconvert_exporter": "python",
   "pygments_lexer": "ipython3",
   "version": "3.9.9"
  }
 },
 "nbformat": 4,
 "nbformat_minor": 5
}
