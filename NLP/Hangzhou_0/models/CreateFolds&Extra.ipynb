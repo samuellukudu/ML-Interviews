{
 "cells": [
  {
   "cell_type": "code",
   "execution_count": 1,
   "id": "efbe4f7e-fe3a-4f22-878d-d0dbed011313",
   "metadata": {},
   "outputs": [],
   "source": [
    "import os, sys, gc\n",
    "from pathlib import Path\n",
    "from glob import glob\n",
    "from tqdm.notebook import tqdm\n",
    "\n",
    "import pandas as pd\n",
    "import numpy as np\n",
    "\n",
    "import warnings\n",
    "warnings.filterwarnings(\"ignore\")"
   ]
  },
  {
   "cell_type": "code",
   "execution_count": 2,
   "id": "7a45839b-7696-44db-947f-c0936406e5db",
   "metadata": {},
   "outputs": [
    {
     "data": {
      "text/plain": [
       "['test_data.xlsx']"
      ]
     },
     "execution_count": 2,
     "metadata": {},
     "output_type": "execute_result"
    }
   ],
   "source": [
    "Data_dir = Path(\"../data/\")\n",
    "os.listdir(Data_dir)"
   ]
  },
  {
   "cell_type": "code",
   "execution_count": 3,
   "id": "3db0298e-ef79-439d-8a61-4c49ea9df117",
   "metadata": {},
   "outputs": [
    {
     "data": {
      "text/html": [
       "<div>\n",
       "<style scoped>\n",
       "    .dataframe tbody tr th:only-of-type {\n",
       "        vertical-align: middle;\n",
       "    }\n",
       "\n",
       "    .dataframe tbody tr th {\n",
       "        vertical-align: top;\n",
       "    }\n",
       "\n",
       "    .dataframe thead th {\n",
       "        text-align: right;\n",
       "    }\n",
       "</style>\n",
       "<table border=\"1\" class=\"dataframe\">\n",
       "  <thead>\n",
       "    <tr style=\"text-align: right;\">\n",
       "      <th></th>\n",
       "      <th>类目</th>\n",
       "      <th>标题</th>\n",
       "    </tr>\n",
       "  </thead>\n",
       "  <tbody>\n",
       "    <tr>\n",
       "      <th>0</th>\n",
       "      <td>Pet Hair Trimmer</td>\n",
       "      <td>4 in 1 Pet Hair Clipper With 4 Blades Grooming...</td>\n",
       "    </tr>\n",
       "    <tr>\n",
       "      <th>1</th>\n",
       "      <td>Pet Hair Trimmer</td>\n",
       "      <td>Animal Clipper pet care series sonar sn-270, r...</td>\n",
       "    </tr>\n",
       "    <tr>\n",
       "      <th>2</th>\n",
       "      <td>Pet Hair Trimmer</td>\n",
       "      <td>Babyliss 35007690 block knife set (40mm) Clipp...</td>\n",
       "    </tr>\n",
       "    <tr>\n",
       "      <th>3</th>\n",
       "      <td>Pet Hair Trimmer</td>\n",
       "      <td>Dog Hair Trimmer USB Rechargeable Professional...</td>\n",
       "    </tr>\n",
       "    <tr>\n",
       "      <th>4</th>\n",
       "      <td>Pet Hair Trimmer</td>\n",
       "      <td>Dropshipping Dog Noise-Low Design Pet Hair Cli...</td>\n",
       "    </tr>\n",
       "    <tr>\n",
       "      <th>...</th>\n",
       "      <td>...</td>\n",
       "      <td>...</td>\n",
       "    </tr>\n",
       "    <tr>\n",
       "      <th>99998</th>\n",
       "      <td>Home Appliances</td>\n",
       "      <td>Multi-purpose Handheld Electric High-pressure ...</td>\n",
       "    </tr>\n",
       "    <tr>\n",
       "      <th>99999</th>\n",
       "      <td>Home Appliances</td>\n",
       "      <td>Multi-set Dirt Disposal Replacement Bags for i...</td>\n",
       "    </tr>\n",
       "    <tr>\n",
       "      <th>100000</th>\n",
       "      <td>Home Appliances</td>\n",
       "      <td>Multicooker Rice Cooker 11 in 1 DIY Functions ...</td>\n",
       "    </tr>\n",
       "    <tr>\n",
       "      <th>100001</th>\n",
       "      <td>Home Appliances</td>\n",
       "      <td>Multifunction Automatic UV Sterilizer for Toot...</td>\n",
       "    </tr>\n",
       "    <tr>\n",
       "      <th>100002</th>\n",
       "      <td>Home Appliances</td>\n",
       "      <td>Multifunction Electric Remove Calluses Hardnes...</td>\n",
       "    </tr>\n",
       "  </tbody>\n",
       "</table>\n",
       "<p>100003 rows × 2 columns</p>\n",
       "</div>"
      ],
      "text/plain": [
       "                       类目                                                 标题\n",
       "0        Pet Hair Trimmer  4 in 1 Pet Hair Clipper With 4 Blades Grooming...\n",
       "1        Pet Hair Trimmer  Animal Clipper pet care series sonar sn-270, r...\n",
       "2        Pet Hair Trimmer  Babyliss 35007690 block knife set (40mm) Clipp...\n",
       "3        Pet Hair Trimmer  Dog Hair Trimmer USB Rechargeable Professional...\n",
       "4        Pet Hair Trimmer  Dropshipping Dog Noise-Low Design Pet Hair Cli...\n",
       "...                   ...                                                ...\n",
       "99998     Home Appliances  Multi-purpose Handheld Electric High-pressure ...\n",
       "99999     Home Appliances  Multi-set Dirt Disposal Replacement Bags for i...\n",
       "100000    Home Appliances  Multicooker Rice Cooker 11 in 1 DIY Functions ...\n",
       "100001    Home Appliances  Multifunction Automatic UV Sterilizer for Toot...\n",
       "100002    Home Appliances  Multifunction Electric Remove Calluses Hardnes...\n",
       "\n",
       "[100003 rows x 2 columns]"
      ]
     },
     "execution_count": 3,
     "metadata": {},
     "output_type": "execute_result"
    }
   ],
   "source": [
    "data = pd.read_excel(Data_dir/'test_data.xlsx')\n",
    "data"
   ]
  },
  {
   "cell_type": "code",
   "execution_count": 4,
   "id": "ad770094-4c1b-438b-8f31-6ad356ad8f71",
   "metadata": {},
   "outputs": [
    {
     "data": {
      "text/html": [
       "<div>\n",
       "<style scoped>\n",
       "    .dataframe tbody tr th:only-of-type {\n",
       "        vertical-align: middle;\n",
       "    }\n",
       "\n",
       "    .dataframe tbody tr th {\n",
       "        vertical-align: top;\n",
       "    }\n",
       "\n",
       "    .dataframe thead th {\n",
       "        text-align: right;\n",
       "    }\n",
       "</style>\n",
       "<table border=\"1\" class=\"dataframe\">\n",
       "  <thead>\n",
       "    <tr style=\"text-align: right;\">\n",
       "      <th></th>\n",
       "      <th>Category</th>\n",
       "      <th>Description</th>\n",
       "    </tr>\n",
       "  </thead>\n",
       "  <tbody>\n",
       "    <tr>\n",
       "      <th>0</th>\n",
       "      <td>Pet Hair Trimmer</td>\n",
       "      <td>4 in 1 Pet Hair Clipper With 4 Blades Grooming...</td>\n",
       "    </tr>\n",
       "    <tr>\n",
       "      <th>1</th>\n",
       "      <td>Pet Hair Trimmer</td>\n",
       "      <td>Animal Clipper pet care series sonar sn-270, r...</td>\n",
       "    </tr>\n",
       "    <tr>\n",
       "      <th>2</th>\n",
       "      <td>Pet Hair Trimmer</td>\n",
       "      <td>Babyliss 35007690 block knife set (40mm) Clipp...</td>\n",
       "    </tr>\n",
       "    <tr>\n",
       "      <th>3</th>\n",
       "      <td>Pet Hair Trimmer</td>\n",
       "      <td>Dog Hair Trimmer USB Rechargeable Professional...</td>\n",
       "    </tr>\n",
       "    <tr>\n",
       "      <th>4</th>\n",
       "      <td>Pet Hair Trimmer</td>\n",
       "      <td>Dropshipping Dog Noise-Low Design Pet Hair Cli...</td>\n",
       "    </tr>\n",
       "    <tr>\n",
       "      <th>...</th>\n",
       "      <td>...</td>\n",
       "      <td>...</td>\n",
       "    </tr>\n",
       "    <tr>\n",
       "      <th>99998</th>\n",
       "      <td>Home Appliances</td>\n",
       "      <td>Multi-purpose Handheld Electric High-pressure ...</td>\n",
       "    </tr>\n",
       "    <tr>\n",
       "      <th>99999</th>\n",
       "      <td>Home Appliances</td>\n",
       "      <td>Multi-set Dirt Disposal Replacement Bags for i...</td>\n",
       "    </tr>\n",
       "    <tr>\n",
       "      <th>100000</th>\n",
       "      <td>Home Appliances</td>\n",
       "      <td>Multicooker Rice Cooker 11 in 1 DIY Functions ...</td>\n",
       "    </tr>\n",
       "    <tr>\n",
       "      <th>100001</th>\n",
       "      <td>Home Appliances</td>\n",
       "      <td>Multifunction Automatic UV Sterilizer for Toot...</td>\n",
       "    </tr>\n",
       "    <tr>\n",
       "      <th>100002</th>\n",
       "      <td>Home Appliances</td>\n",
       "      <td>Multifunction Electric Remove Calluses Hardnes...</td>\n",
       "    </tr>\n",
       "  </tbody>\n",
       "</table>\n",
       "<p>100003 rows × 2 columns</p>\n",
       "</div>"
      ],
      "text/plain": [
       "                 Category                                        Description\n",
       "0        Pet Hair Trimmer  4 in 1 Pet Hair Clipper With 4 Blades Grooming...\n",
       "1        Pet Hair Trimmer  Animal Clipper pet care series sonar sn-270, r...\n",
       "2        Pet Hair Trimmer  Babyliss 35007690 block knife set (40mm) Clipp...\n",
       "3        Pet Hair Trimmer  Dog Hair Trimmer USB Rechargeable Professional...\n",
       "4        Pet Hair Trimmer  Dropshipping Dog Noise-Low Design Pet Hair Cli...\n",
       "...                   ...                                                ...\n",
       "99998     Home Appliances  Multi-purpose Handheld Electric High-pressure ...\n",
       "99999     Home Appliances  Multi-set Dirt Disposal Replacement Bags for i...\n",
       "100000    Home Appliances  Multicooker Rice Cooker 11 in 1 DIY Functions ...\n",
       "100001    Home Appliances  Multifunction Automatic UV Sterilizer for Toot...\n",
       "100002    Home Appliances  Multifunction Electric Remove Calluses Hardnes...\n",
       "\n",
       "[100003 rows x 2 columns]"
      ]
     },
     "execution_count": 4,
     "metadata": {},
     "output_type": "execute_result"
    }
   ],
   "source": [
    "data.rename(columns={'类目': 'Category', '标题': 'Description'}, inplace=True)\n",
    "data"
   ]
  },
  {
   "cell_type": "code",
   "execution_count": 5,
   "id": "48cd5ad0-193b-4455-8241-10a244570ed8",
   "metadata": {},
   "outputs": [],
   "source": [
    "data.Category = data.Category.astype('str')\n",
    "data.Description = data.Category.astype('str')"
   ]
  },
  {
   "cell_type": "code",
   "execution_count": 6,
   "id": "5d58f395-3947-4468-83e8-f3921f4bc292",
   "metadata": {},
   "outputs": [],
   "source": [
    "from sklearn.preprocessing import LabelEncoder\n",
    "\n",
    "encoder = LabelEncoder()\n",
    "data['label'] = encoder.fit_transform(data['Category'])"
   ]
  },
  {
   "cell_type": "code",
   "execution_count": 7,
   "id": "abffc52e-e199-45e9-8fb7-a2d6cd958ea8",
   "metadata": {},
   "outputs": [],
   "source": [
    "from sklearn import model_selection"
   ]
  },
  {
   "cell_type": "code",
   "execution_count": 8,
   "id": "f5ddd952-279b-4b7a-b027-55670acfadb1",
   "metadata": {},
   "outputs": [],
   "source": [
    "def create_folds(data, num_splits):\n",
    "    # we create a new column called Kfold and fill it with -1\n",
    "    data['kfold'] = -1\n",
    "    \n",
    "    # the next step is to randomize the rows of the data\n",
    "    data = data.sample(frac=1).reset_index(drop=True)\n",
    "    \n",
    "    # calculate number of bins by Sturge's rule of \n",
    "    # Take the floor of the values or just round it up\n",
    "    num_bins = int(np.floor(1 + np.log2(len(data))))\n",
    "    \n",
    "    # bin targets or simply the Category as shown in my data\n",
    "    data.loc[:, \"bins\"] = pd.cut(\n",
    "        data['label'], bins=num_bins, labels=False\n",
    "    )\n",
    "    \n",
    "    # initiate the kfold class from model_selection module\n",
    "    kf = model_selection.StratifiedKFold(n_splits=num_splits)\n",
    "    \n",
    "    # fill the new kfold column \n",
    "    # note that instead of targets, we use bins\n",
    "    for fold, (tr_idx, val_idx) in enumerate(tqdm(kf.split(X=data, y=data.bins.values), total=num_splits, desc='Creating folds ...')):\n",
    "        data.loc[val_idx, 'kfold'] = fold\n",
    "        \n",
    "    # drop the bins columns\n",
    "    data = data.drop(\"bins\", axis=1)\n",
    "    \n",
    "    # return the dataframe with folds\n",
    "    return data"
   ]
  },
  {
   "cell_type": "code",
   "execution_count": 62,
   "id": "e0fc5a35-8866-4b34-8ac2-7538c953ac60",
   "metadata": {},
   "outputs": [
    {
     "data": {
      "application/vnd.jupyter.widget-view+json": {
       "model_id": "34ce65b64dd54703b40dd08c8b0a53b6",
       "version_major": 2,
       "version_minor": 0
      },
      "text/plain": [
       "Creating folds ...:   0%|          | 0/5 [00:00<?, ?it/s]"
      ]
     },
     "metadata": {},
     "output_type": "display_data"
    }
   ],
   "source": [
    "df = create_folds(data, 5)"
   ]
  },
  {
   "cell_type": "code",
   "execution_count": 13,
   "id": "e882604b-421d-4f4d-b020-3721ce73a01d",
   "metadata": {},
   "outputs": [
    {
     "data": {
      "text/plain": [
       "0    20001\n",
       "1    20001\n",
       "2    20001\n",
       "3    20000\n",
       "4    20000\n",
       "Name: kfold, dtype: int64"
      ]
     },
     "execution_count": 13,
     "metadata": {},
     "output_type": "execute_result"
    }
   ],
   "source": [
    "df.kfold.value_counts()"
   ]
  },
  {
   "cell_type": "markdown",
   "id": "2b4dcfad-6934-4463-952c-198817a490f0",
   "metadata": {},
   "source": [
    "# GROUPBY PRACTICE"
   ]
  },
  {
   "cell_type": "code",
   "execution_count": 51,
   "id": "70bc3e81-c286-434f-a49c-8e24c96b02f3",
   "metadata": {},
   "outputs": [],
   "source": [
    "df = pd.DataFrame(data = {'id': ['aaa', 'aaa', 'bbb', 'bbb', 'ccc'],\n",
    "                          'val': ['hello', 'world', 'foo', 'bar', 'rabbit']})"
   ]
  },
  {
   "cell_type": "code",
   "execution_count": 52,
   "id": "fe56247a-9032-4cf0-ad39-d5192e281942",
   "metadata": {},
   "outputs": [
    {
     "data": {
      "text/html": [
       "<div>\n",
       "<style scoped>\n",
       "    .dataframe tbody tr th:only-of-type {\n",
       "        vertical-align: middle;\n",
       "    }\n",
       "\n",
       "    .dataframe tbody tr th {\n",
       "        vertical-align: top;\n",
       "    }\n",
       "\n",
       "    .dataframe thead th {\n",
       "        text-align: right;\n",
       "    }\n",
       "</style>\n",
       "<table border=\"1\" class=\"dataframe\">\n",
       "  <thead>\n",
       "    <tr style=\"text-align: right;\">\n",
       "      <th></th>\n",
       "      <th>id</th>\n",
       "      <th>val</th>\n",
       "    </tr>\n",
       "  </thead>\n",
       "  <tbody>\n",
       "    <tr>\n",
       "      <th>0</th>\n",
       "      <td>aaa</td>\n",
       "      <td>hello</td>\n",
       "    </tr>\n",
       "    <tr>\n",
       "      <th>1</th>\n",
       "      <td>aaa</td>\n",
       "      <td>world</td>\n",
       "    </tr>\n",
       "    <tr>\n",
       "      <th>2</th>\n",
       "      <td>bbb</td>\n",
       "      <td>foo</td>\n",
       "    </tr>\n",
       "    <tr>\n",
       "      <th>3</th>\n",
       "      <td>bbb</td>\n",
       "      <td>bar</td>\n",
       "    </tr>\n",
       "    <tr>\n",
       "      <th>4</th>\n",
       "      <td>ccc</td>\n",
       "      <td>rabbit</td>\n",
       "    </tr>\n",
       "  </tbody>\n",
       "</table>\n",
       "</div>"
      ],
      "text/plain": [
       "    id     val\n",
       "0  aaa   hello\n",
       "1  aaa   world\n",
       "2  bbb     foo\n",
       "3  bbb     bar\n",
       "4  ccc  rabbit"
      ]
     },
     "execution_count": 52,
     "metadata": {},
     "output_type": "execute_result"
    }
   ],
   "source": [
    "df"
   ]
  },
  {
   "cell_type": "code",
   "execution_count": 54,
   "id": "5e005407-47f7-4d19-8c13-75235df4964a",
   "metadata": {},
   "outputs": [
    {
     "data": {
      "text/html": [
       "<div>\n",
       "<style scoped>\n",
       "    .dataframe tbody tr th:only-of-type {\n",
       "        vertical-align: middle;\n",
       "    }\n",
       "\n",
       "    .dataframe tbody tr th {\n",
       "        vertical-align: top;\n",
       "    }\n",
       "\n",
       "    .dataframe thead tr th {\n",
       "        text-align: left;\n",
       "    }\n",
       "</style>\n",
       "<table border=\"1\" class=\"dataframe\">\n",
       "  <thead>\n",
       "    <tr>\n",
       "      <th></th>\n",
       "      <th>id</th>\n",
       "      <th colspan=\"2\" halign=\"left\">val</th>\n",
       "    </tr>\n",
       "    <tr>\n",
       "      <th></th>\n",
       "      <th></th>\n",
       "      <th>join</th>\n",
       "      <th>count</th>\n",
       "    </tr>\n",
       "  </thead>\n",
       "  <tbody>\n",
       "    <tr>\n",
       "      <th>0</th>\n",
       "      <td>aaa</td>\n",
       "      <td>hello world</td>\n",
       "      <td>2</td>\n",
       "    </tr>\n",
       "    <tr>\n",
       "      <th>1</th>\n",
       "      <td>bbb</td>\n",
       "      <td>foo bar</td>\n",
       "      <td>2</td>\n",
       "    </tr>\n",
       "    <tr>\n",
       "      <th>2</th>\n",
       "      <td>ccc</td>\n",
       "      <td>rabbit</td>\n",
       "      <td>1</td>\n",
       "    </tr>\n",
       "  </tbody>\n",
       "</table>\n",
       "</div>"
      ],
      "text/plain": [
       "    id          val      \n",
       "               join count\n",
       "0  aaa  hello world     2\n",
       "1  bbb      foo bar     2\n",
       "2  ccc       rabbit     1"
      ]
     },
     "execution_count": 54,
     "metadata": {},
     "output_type": "execute_result"
    }
   ],
   "source": [
    "df.groupby(['id'], as_index=False).agg({'val': [' '.join, 'count']})"
   ]
  },
  {
   "cell_type": "code",
   "execution_count": 98,
   "id": "1de0dea1-3733-4b65-94ba-ebd5ddeda576",
   "metadata": {},
   "outputs": [],
   "source": [
    "count_desc = df.groupby(['Description'], as_index=False).agg({'Category': [' '.join, 'count']})\n",
    "count_desc = pd.merge(count_desc, df, on=['Description'], how='left')"
   ]
  },
  {
   "cell_type": "code",
   "execution_count": 99,
   "id": "dd8ed8fb-2c80-4d38-8c2b-560c28934de6",
   "metadata": {},
   "outputs": [
    {
     "data": {
      "text/plain": [
       "Index([        'Description',   ('Description', ''),  ('Category', 'join'),\n",
       "       ('Category', 'count'),            'Category',               'label',\n",
       "                     'kfold'],\n",
       "      dtype='object')"
      ]
     },
     "execution_count": 99,
     "metadata": {},
     "output_type": "execute_result"
    }
   ],
   "source": [
    "count_desc.columns"
   ]
  },
  {
   "cell_type": "code",
   "execution_count": 104,
   "id": "83bd56f1-d523-4aa6-bacf-ff7151c07281",
   "metadata": {},
   "outputs": [
    {
     "name": "stdout",
     "output_type": "stream",
     "text": [
      "  store  quarter employee\n",
      "0     A        1     Andy\n",
      "1     A        1      Bob\n",
      "2     A        2     Chad\n",
      "3     A        2    Diane\n",
      "4     B        1    Elana\n",
      "5     B        1    Frank\n",
      "6     B        2   George\n",
      "7     B        2     Hank\n"
     ]
    }
   ],
   "source": [
    "df = pd.DataFrame({'store': ['A', 'A', 'A', 'A', 'B', 'B', 'B', 'B'],\n",
    "                   'quarter': [1, 1, 2, 2, 1, 1, 2, 2],\n",
    "                   'employee': ['Andy', 'Bob', 'Chad', 'Diane',\n",
    "                                'Elana', 'Frank', 'George', 'Hank']})\n",
    "\n",
    "#view DataFrame\n",
    "print(df)"
   ]
  },
  {
   "cell_type": "code",
   "execution_count": 112,
   "id": "85f177a3-eca5-49a4-ba79-43ce5e4a440a",
   "metadata": {},
   "outputs": [
    {
     "data": {
      "text/html": [
       "<div>\n",
       "<style scoped>\n",
       "    .dataframe tbody tr th:only-of-type {\n",
       "        vertical-align: middle;\n",
       "    }\n",
       "\n",
       "    .dataframe tbody tr th {\n",
       "        vertical-align: top;\n",
       "    }\n",
       "\n",
       "    .dataframe thead th {\n",
       "        text-align: right;\n",
       "    }\n",
       "</style>\n",
       "<table border=\"1\" class=\"dataframe\">\n",
       "  <thead>\n",
       "    <tr style=\"text-align: right;\">\n",
       "      <th></th>\n",
       "      <th>store</th>\n",
       "      <th>quarter</th>\n",
       "      <th>employee</th>\n",
       "    </tr>\n",
       "  </thead>\n",
       "  <tbody>\n",
       "    <tr>\n",
       "      <th>0</th>\n",
       "      <td>A</td>\n",
       "      <td>1</td>\n",
       "      <td>Andy &amp; Bob</td>\n",
       "    </tr>\n",
       "    <tr>\n",
       "      <th>1</th>\n",
       "      <td>A</td>\n",
       "      <td>2</td>\n",
       "      <td>Chad &amp; Diane</td>\n",
       "    </tr>\n",
       "    <tr>\n",
       "      <th>2</th>\n",
       "      <td>B</td>\n",
       "      <td>1</td>\n",
       "      <td>Elana &amp; Frank</td>\n",
       "    </tr>\n",
       "    <tr>\n",
       "      <th>3</th>\n",
       "      <td>B</td>\n",
       "      <td>2</td>\n",
       "      <td>George &amp; Hank</td>\n",
       "    </tr>\n",
       "  </tbody>\n",
       "</table>\n",
       "</div>"
      ],
      "text/plain": [
       "  store  quarter       employee\n",
       "0     A        1     Andy & Bob\n",
       "1     A        2   Chad & Diane\n",
       "2     B        1  Elana & Frank\n",
       "3     B        2  George & Hank"
      ]
     },
     "execution_count": 112,
     "metadata": {},
     "output_type": "execute_result"
    }
   ],
   "source": [
    "gr_df = df.groupby(['store', 'quarter'], as_index=False).agg({'employee': ' & '.join})\n",
    "gr_df"
   ]
  },
  {
   "cell_type": "code",
   "execution_count": 113,
   "id": "549badc5-db52-4ee5-8cf0-8b799bb846e6",
   "metadata": {},
   "outputs": [
    {
     "data": {
      "text/html": [
       "<div>\n",
       "<style scoped>\n",
       "    .dataframe tbody tr th:only-of-type {\n",
       "        vertical-align: middle;\n",
       "    }\n",
       "\n",
       "    .dataframe tbody tr th {\n",
       "        vertical-align: top;\n",
       "    }\n",
       "\n",
       "    .dataframe thead th {\n",
       "        text-align: right;\n",
       "    }\n",
       "</style>\n",
       "<table border=\"1\" class=\"dataframe\">\n",
       "  <thead>\n",
       "    <tr style=\"text-align: right;\">\n",
       "      <th></th>\n",
       "      <th>store</th>\n",
       "      <th>quarter</th>\n",
       "      <th>employee_x</th>\n",
       "      <th>employee_y</th>\n",
       "    </tr>\n",
       "  </thead>\n",
       "  <tbody>\n",
       "    <tr>\n",
       "      <th>0</th>\n",
       "      <td>A</td>\n",
       "      <td>1</td>\n",
       "      <td>Andy &amp; Bob</td>\n",
       "      <td>Andy</td>\n",
       "    </tr>\n",
       "    <tr>\n",
       "      <th>1</th>\n",
       "      <td>A</td>\n",
       "      <td>1</td>\n",
       "      <td>Andy &amp; Bob</td>\n",
       "      <td>Bob</td>\n",
       "    </tr>\n",
       "    <tr>\n",
       "      <th>2</th>\n",
       "      <td>A</td>\n",
       "      <td>2</td>\n",
       "      <td>Chad &amp; Diane</td>\n",
       "      <td>Chad</td>\n",
       "    </tr>\n",
       "    <tr>\n",
       "      <th>3</th>\n",
       "      <td>A</td>\n",
       "      <td>2</td>\n",
       "      <td>Chad &amp; Diane</td>\n",
       "      <td>Diane</td>\n",
       "    </tr>\n",
       "    <tr>\n",
       "      <th>4</th>\n",
       "      <td>B</td>\n",
       "      <td>1</td>\n",
       "      <td>Elana &amp; Frank</td>\n",
       "      <td>Elana</td>\n",
       "    </tr>\n",
       "    <tr>\n",
       "      <th>5</th>\n",
       "      <td>B</td>\n",
       "      <td>1</td>\n",
       "      <td>Elana &amp; Frank</td>\n",
       "      <td>Frank</td>\n",
       "    </tr>\n",
       "    <tr>\n",
       "      <th>6</th>\n",
       "      <td>B</td>\n",
       "      <td>2</td>\n",
       "      <td>George &amp; Hank</td>\n",
       "      <td>George</td>\n",
       "    </tr>\n",
       "    <tr>\n",
       "      <th>7</th>\n",
       "      <td>B</td>\n",
       "      <td>2</td>\n",
       "      <td>George &amp; Hank</td>\n",
       "      <td>Hank</td>\n",
       "    </tr>\n",
       "  </tbody>\n",
       "</table>\n",
       "</div>"
      ],
      "text/plain": [
       "  store  quarter     employee_x employee_y\n",
       "0     A        1     Andy & Bob       Andy\n",
       "1     A        1     Andy & Bob        Bob\n",
       "2     A        2   Chad & Diane       Chad\n",
       "3     A        2   Chad & Diane      Diane\n",
       "4     B        1  Elana & Frank      Elana\n",
       "5     B        1  Elana & Frank      Frank\n",
       "6     B        2  George & Hank     George\n",
       "7     B        2  George & Hank       Hank"
      ]
     },
     "execution_count": 113,
     "metadata": {},
     "output_type": "execute_result"
    }
   ],
   "source": [
    "pd.merge(gr_df, df, on=['store', 'quarter'], how='left')"
   ]
  },
  {
   "cell_type": "code",
   "execution_count": 114,
   "id": "da0b1613-bb86-4a0a-8e08-2c071270e67b",
   "metadata": {},
   "outputs": [],
   "source": [
    "df = pd.DataFrame({'team': ['A', 'A', 'A', 'A', 'A', 'B', 'B', 'B', 'B', 'B'],\n",
    "                   'points': [12, 29, 34, 14, 10, 11, 7, 36, 34, 22]})"
   ]
  },
  {
   "cell_type": "code",
   "execution_count": 119,
   "id": "ac651db9-014b-4aab-b8a3-3e776e0a05e7",
   "metadata": {},
   "outputs": [
    {
     "data": {
      "text/plain": [
       "team   \n",
       "A     2    34\n",
       "      1    29\n",
       "      3    14\n",
       "B     7    36\n",
       "      8    34\n",
       "      9    22\n",
       "Name: points, dtype: int64"
      ]
     },
     "execution_count": 119,
     "metadata": {},
     "output_type": "execute_result"
    }
   ],
   "source": [
    "df.groupby('team')['points'].nlargest(3)"
   ]
  },
  {
   "cell_type": "code",
   "execution_count": 120,
   "id": "16725415-d356-48d5-aed8-7b0729db036e",
   "metadata": {},
   "outputs": [
    {
     "data": {
      "text/plain": [
       "team   \n",
       "A     4    10\n",
       "      0    12\n",
       "      3    14\n",
       "B     6     7\n",
       "      5    11\n",
       "      9    22\n",
       "Name: points, dtype: int64"
      ]
     },
     "execution_count": 120,
     "metadata": {},
     "output_type": "execute_result"
    }
   ],
   "source": [
    "df.groupby('team')['points'].nsmallest(3)"
   ]
  },
  {
   "cell_type": "code",
   "execution_count": 121,
   "id": "f18fd136-cb69-4e2b-827e-59d291361eaf",
   "metadata": {},
   "outputs": [
    {
     "data": {
      "text/plain": [
       "team\n",
       "A    63\n",
       "B    70\n",
       "Name: points, dtype: int64"
      ]
     },
     "execution_count": 121,
     "metadata": {},
     "output_type": "execute_result"
    }
   ],
   "source": [
    "df.groupby('team')['points'].apply(lambda grp: grp.nlargest(2).sum())"
   ]
  },
  {
   "cell_type": "code",
   "execution_count": 122,
   "id": "214c57a6-dd2b-4c11-93a4-9daeea900cb0",
   "metadata": {},
   "outputs": [],
   "source": [
    "#create DataFrame\n",
    "df = pd.DataFrame({'team': ['A', 'A', 'A', 'A', 'A', 'A', 'A', 'A',\n",
    "                            'B', 'B', 'B', 'B', 'B', 'B', 'B', 'B'],\n",
    "                   'points': [4, 7, 7, 11, 12, 15, 19, 19,\n",
    "                             5, 5, 11, 12, 14, 14, 15, 15]})"
   ]
  },
  {
   "cell_type": "code",
   "execution_count": 124,
   "id": "b14787ac-b922-451e-9dae-fdde0273f6e7",
   "metadata": {},
   "outputs": [
    {
     "data": {
      "text/plain": [
       "5"
      ]
     },
     "execution_count": 124,
     "metadata": {},
     "output_type": "execute_result"
    }
   ],
   "source": [
    "bins = int(np.floor(1+np.log2(len(df))))\n",
    "bins"
   ]
  },
  {
   "cell_type": "code",
   "execution_count": 128,
   "id": "c17de4f9-dbb1-4a1c-be11-0c71ec0aa7d9",
   "metadata": {},
   "outputs": [
    {
     "data": {
      "text/html": [
       "<div>\n",
       "<style scoped>\n",
       "    .dataframe tbody tr th:only-of-type {\n",
       "        vertical-align: middle;\n",
       "    }\n",
       "\n",
       "    .dataframe tbody tr th {\n",
       "        vertical-align: top;\n",
       "    }\n",
       "\n",
       "    .dataframe thead th {\n",
       "        text-align: right;\n",
       "    }\n",
       "</style>\n",
       "<table border=\"1\" class=\"dataframe\">\n",
       "  <thead>\n",
       "    <tr style=\"text-align: right;\">\n",
       "      <th>points</th>\n",
       "      <th>(3.985, 7.0]</th>\n",
       "      <th>(7.0, 10.0]</th>\n",
       "      <th>(10.0, 13.0]</th>\n",
       "      <th>(13.0, 16.0]</th>\n",
       "      <th>(16.0, 19.0]</th>\n",
       "    </tr>\n",
       "    <tr>\n",
       "      <th>team</th>\n",
       "      <th></th>\n",
       "      <th></th>\n",
       "      <th></th>\n",
       "      <th></th>\n",
       "      <th></th>\n",
       "    </tr>\n",
       "  </thead>\n",
       "  <tbody>\n",
       "    <tr>\n",
       "      <th>A</th>\n",
       "      <td>3</td>\n",
       "      <td>0</td>\n",
       "      <td>2</td>\n",
       "      <td>1</td>\n",
       "      <td>2</td>\n",
       "    </tr>\n",
       "    <tr>\n",
       "      <th>B</th>\n",
       "      <td>2</td>\n",
       "      <td>0</td>\n",
       "      <td>2</td>\n",
       "      <td>4</td>\n",
       "      <td>0</td>\n",
       "    </tr>\n",
       "  </tbody>\n",
       "</table>\n",
       "</div>"
      ],
      "text/plain": [
       "points  (3.985, 7.0]  (7.0, 10.0]  (10.0, 13.0]  (13.0, 16.0]  (16.0, 19.0]\n",
       "team                                                                       \n",
       "A                  3            0             2             1             2\n",
       "B                  2            0             2             4             0"
      ]
     },
     "execution_count": 128,
     "metadata": {},
     "output_type": "execute_result"
    }
   ],
   "source": [
    "df.groupby(['team', pd.cut(df.points, bins=bins)]).size().unstack()"
   ]
  },
  {
   "cell_type": "markdown",
   "id": "22209a7e-9850-4c6a-857c-da36def966da",
   "metadata": {},
   "source": [
    "# SPARK BY EXAMPLE"
   ]
  },
  {
   "cell_type": "code",
   "execution_count": 129,
   "id": "11d5d136-bed1-4325-b8ee-9b4ae8ec72eb",
   "metadata": {},
   "outputs": [
    {
     "name": "stdout",
     "output_type": "stream",
     "text": [
      "   Courses    Fee Duration  Discount\n",
      "0    Spark  22000   30days    1000.0\n",
      "1  PySpark  25000   50days    2300.0\n",
      "2   Hadoop  23000   55days    1000.0\n",
      "3   Python  24000   40days    1200.0\n",
      "4   Pandas  26000   60days    2500.0\n",
      "5   Hadoop  25000   35days       NaN\n",
      "6    Spark  25000   30days    1400.0\n",
      "7   Python  22000   50days    1600.0\n",
      "8       NA   1500   40days       0.0\n"
     ]
    }
   ],
   "source": [
    "technologies   = ({\n",
    "    'Courses':[\"Spark\",\"PySpark\",\"Hadoop\",\"Python\",\"Pandas\",\"Hadoop\",\"Spark\",\"Python\",\"NA\"],\n",
    "    'Fee' :[22000,25000,23000,24000,26000,25000,25000,22000,1500],\n",
    "    'Duration':['30days','50days','55days','40days','60days','35days','30days','50days','40days'],\n",
    "    'Discount':[1000,2300,1000,1200,2500,None,1400,1600,0]\n",
    "          })\n",
    "df = pd.DataFrame(technologies)\n",
    "print(df)"
   ]
  },
  {
   "cell_type": "code",
   "execution_count": 141,
   "id": "03c31c96-77a9-4a5a-a386-f9c6b98f0a33",
   "metadata": {},
   "outputs": [
    {
     "data": {
      "text/html": [
       "<div>\n",
       "<style scoped>\n",
       "    .dataframe tbody tr th:only-of-type {\n",
       "        vertical-align: middle;\n",
       "    }\n",
       "\n",
       "    .dataframe tbody tr th {\n",
       "        vertical-align: top;\n",
       "    }\n",
       "\n",
       "    .dataframe thead th {\n",
       "        text-align: right;\n",
       "    }\n",
       "</style>\n",
       "<table border=\"1\" class=\"dataframe\">\n",
       "  <thead>\n",
       "    <tr style=\"text-align: right;\">\n",
       "      <th></th>\n",
       "      <th>Fee</th>\n",
       "      <th>Discount</th>\n",
       "    </tr>\n",
       "    <tr>\n",
       "      <th>Courses</th>\n",
       "      <th></th>\n",
       "      <th></th>\n",
       "    </tr>\n",
       "  </thead>\n",
       "  <tbody>\n",
       "    <tr>\n",
       "      <th>Hadoop</th>\n",
       "      <td>48000</td>\n",
       "      <td>1000.0</td>\n",
       "    </tr>\n",
       "    <tr>\n",
       "      <th>NA</th>\n",
       "      <td>1500</td>\n",
       "      <td>0.0</td>\n",
       "    </tr>\n",
       "    <tr>\n",
       "      <th>Pandas</th>\n",
       "      <td>26000</td>\n",
       "      <td>2500.0</td>\n",
       "    </tr>\n",
       "    <tr>\n",
       "      <th>PySpark</th>\n",
       "      <td>25000</td>\n",
       "      <td>2300.0</td>\n",
       "    </tr>\n",
       "    <tr>\n",
       "      <th>Python</th>\n",
       "      <td>46000</td>\n",
       "      <td>2800.0</td>\n",
       "    </tr>\n",
       "    <tr>\n",
       "      <th>Spark</th>\n",
       "      <td>47000</td>\n",
       "      <td>2400.0</td>\n",
       "    </tr>\n",
       "  </tbody>\n",
       "</table>\n",
       "</div>"
      ],
      "text/plain": [
       "           Fee  Discount\n",
       "Courses                 \n",
       "Hadoop   48000    1000.0\n",
       "NA        1500       0.0\n",
       "Pandas   26000    2500.0\n",
       "PySpark  25000    2300.0\n",
       "Python   46000    2800.0\n",
       "Spark    47000    2400.0"
      ]
     },
     "execution_count": 141,
     "metadata": {},
     "output_type": "execute_result"
    }
   ],
   "source": [
    "df.groupby(by=['Courses'], dropna=True).sum()"
   ]
  },
  {
   "cell_type": "code",
   "execution_count": 144,
   "id": "0a414019-d5ac-462e-a7dc-5f3c45845813",
   "metadata": {},
   "outputs": [],
   "source": [
    "#create DataFrame\n",
    "df = pd.DataFrame({'team': ['A', 'A', 'A', 'A', 'B', 'B', 'B', 'B'],\n",
    "                   'points': [18, 22, 19, 14, 14, 11, 20, 28],\n",
    "                   'assists': [2, 7, 9, 3, 12, 10, 14, 21]})"
   ]
  },
  {
   "cell_type": "code",
   "execution_count": 146,
   "id": "f9fe8bc9-ffe0-4f10-8a58-65c24b42fa18",
   "metadata": {},
   "outputs": [
    {
     "data": {
      "text/plain": [
       "team\n",
       "A    0.603053\n",
       "B    0.981798\n",
       "Name: (points, assists), dtype: float64"
      ]
     },
     "execution_count": 146,
     "metadata": {},
     "output_type": "execute_result"
    }
   ],
   "source": [
    "df.groupby(['team'])[['points', 'assists']].corr().unstack().iloc[:, 1]"
   ]
  },
  {
   "cell_type": "code",
   "execution_count": 149,
   "id": "cce24bb9-9016-4ff4-ad8f-00eee950ed04",
   "metadata": {},
   "outputs": [
    {
     "data": {
      "text/plain": [
       "team\n",
       "A    0.603053\n",
       "B    0.981798\n",
       "Name: (points, assists), dtype: float64"
      ]
     },
     "execution_count": 149,
     "metadata": {},
     "output_type": "execute_result"
    }
   ],
   "source": [
    "df.groupby(['team'])[['points', 'assists']].corr().unstack().iloc[:, 1]"
   ]
  },
  {
   "cell_type": "code",
   "execution_count": null,
   "id": "ae278d91-32dc-487f-982f-0cfbe73af7a6",
   "metadata": {},
   "outputs": [],
   "source": []
  }
 ],
 "metadata": {
  "kernelspec": {
   "display_name": "default:Python",
   "language": "python",
   "name": "conda-env-default-py"
  },
  "language_info": {
   "codemirror_mode": {
    "name": "ipython",
    "version": 3
   },
   "file_extension": ".py",
   "mimetype": "text/x-python",
   "name": "python",
   "nbconvert_exporter": "python",
   "pygments_lexer": "ipython3",
   "version": "3.9.9"
  }
 },
 "nbformat": 4,
 "nbformat_minor": 5
}
