{
 "cells": [
  {
   "cell_type": "markdown",
   "id": "45a61d36-f665-4930-ba43-a99abec49706",
   "metadata": {},
   "source": [
    "**NLP-Interview**"
   ]
  },
  {
   "cell_type": "code",
   "execution_count": 2,
   "id": "6ead14d8-5cc3-4333-9e9e-85806633366f",
   "metadata": {},
   "outputs": [],
   "source": [
    "import os, sys, gc\n",
    "from pathlib import Path\n",
    "from tqdm.auto import tqdm\n",
    "\n",
    "import pandas as pd\n",
    "import numpy as np\n",
    "import matplotlib.pyplot as plt\n",
    "\n",
    "import warnings\n",
    "warnings.filterwarnings('ignore')"
   ]
  },
  {
   "cell_type": "code",
   "execution_count": 154,
   "id": "2468c859-8e18-4bef-9478-188439d4aee3",
   "metadata": {},
   "outputs": [
    {
     "data": {
      "text/plain": [
       "['test_data.xlsx', '.ipynb_checkpoints']"
      ]
     },
     "execution_count": 154,
     "metadata": {},
     "output_type": "execute_result"
    }
   ],
   "source": [
    "class CFG:\n",
    "    SEED = 2342\n",
    "    Data_dir = Path(\"../data/\")\n",
    "    model_name = \"bert-base-uncased\"\n",
    "    MAX_LEN = 256\n",
    "    \n",
    "Data_dir = CFG.Data_dir\n",
    "os.listdir(Data_dir)"
   ]
  },
  {
   "cell_type": "code",
   "execution_count": 123,
   "id": "87879425-ca49-4450-b1cd-18513b00e683",
   "metadata": {},
   "outputs": [
    {
     "data": {
      "text/html": [
       "<div>\n",
       "<style scoped>\n",
       "    .dataframe tbody tr th:only-of-type {\n",
       "        vertical-align: middle;\n",
       "    }\n",
       "\n",
       "    .dataframe tbody tr th {\n",
       "        vertical-align: top;\n",
       "    }\n",
       "\n",
       "    .dataframe thead th {\n",
       "        text-align: right;\n",
       "    }\n",
       "</style>\n",
       "<table border=\"1\" class=\"dataframe\">\n",
       "  <thead>\n",
       "    <tr style=\"text-align: right;\">\n",
       "      <th></th>\n",
       "      <th>类目</th>\n",
       "      <th>标题</th>\n",
       "    </tr>\n",
       "  </thead>\n",
       "  <tbody>\n",
       "    <tr>\n",
       "      <th>0</th>\n",
       "      <td>Pet Hair Trimmer</td>\n",
       "      <td>4 in 1 Pet Hair Clipper With 4 Blades Grooming...</td>\n",
       "    </tr>\n",
       "    <tr>\n",
       "      <th>1</th>\n",
       "      <td>Pet Hair Trimmer</td>\n",
       "      <td>Animal Clipper pet care series sonar sn-270, r...</td>\n",
       "    </tr>\n",
       "    <tr>\n",
       "      <th>2</th>\n",
       "      <td>Pet Hair Trimmer</td>\n",
       "      <td>Babyliss 35007690 block knife set (40mm) Clipp...</td>\n",
       "    </tr>\n",
       "    <tr>\n",
       "      <th>3</th>\n",
       "      <td>Pet Hair Trimmer</td>\n",
       "      <td>Dog Hair Trimmer USB Rechargeable Professional...</td>\n",
       "    </tr>\n",
       "    <tr>\n",
       "      <th>4</th>\n",
       "      <td>Pet Hair Trimmer</td>\n",
       "      <td>Dropshipping Dog Noise-Low Design Pet Hair Cli...</td>\n",
       "    </tr>\n",
       "    <tr>\n",
       "      <th>5</th>\n",
       "      <td>Pet Hair Trimmer</td>\n",
       "      <td>For cutting animals rechargeable-network goods...</td>\n",
       "    </tr>\n",
       "    <tr>\n",
       "      <th>6</th>\n",
       "      <td>Pet Hair Trimmer</td>\n",
       "      <td>Glove quitapelos so pets removes the hair and ...</td>\n",
       "    </tr>\n",
       "    <tr>\n",
       "      <th>7</th>\n",
       "      <td>Pet Hair Trimmer</td>\n",
       "      <td>NANI Pet Clippers Dog, area Dog preparation Ki...</td>\n",
       "    </tr>\n",
       "    <tr>\n",
       "      <th>8</th>\n",
       "      <td>Pet Hair Trimmer</td>\n",
       "      <td>New USB Rechargeable Pet Hair Trimmer for Dogs...</td>\n",
       "    </tr>\n",
       "    <tr>\n",
       "      <th>9</th>\n",
       "      <td>Pet Hair Trimmer</td>\n",
       "      <td>Pet dog clippers electric hair cutting machine...</td>\n",
       "    </tr>\n",
       "  </tbody>\n",
       "</table>\n",
       "</div>"
      ],
      "text/plain": [
       "                  类目                                                 标题\n",
       "0   Pet Hair Trimmer  4 in 1 Pet Hair Clipper With 4 Blades Grooming...\n",
       "1   Pet Hair Trimmer  Animal Clipper pet care series sonar sn-270, r...\n",
       "2   Pet Hair Trimmer  Babyliss 35007690 block knife set (40mm) Clipp...\n",
       "3   Pet Hair Trimmer  Dog Hair Trimmer USB Rechargeable Professional...\n",
       "4   Pet Hair Trimmer  Dropshipping Dog Noise-Low Design Pet Hair Cli...\n",
       "5   Pet Hair Trimmer  For cutting animals rechargeable-network goods...\n",
       "6   Pet Hair Trimmer  Glove quitapelos so pets removes the hair and ...\n",
       "7   Pet Hair Trimmer  NANI Pet Clippers Dog, area Dog preparation Ki...\n",
       "8   Pet Hair Trimmer  New USB Rechargeable Pet Hair Trimmer for Dogs...\n",
       "9   Pet Hair Trimmer  Pet dog clippers electric hair cutting machine..."
      ]
     },
     "execution_count": 123,
     "metadata": {},
     "output_type": "execute_result"
    }
   ],
   "source": [
    "# 类目: Category\n",
    "# 类目: Title\n",
    "df = pd.read_excel(Data_dir/'test_data.xlsx')\n",
    "df.head(10)"
   ]
  },
  {
   "cell_type": "code",
   "execution_count": 128,
   "id": "219fa3f1-1610-4bf4-a00e-3926d9bcf3ab",
   "metadata": {},
   "outputs": [
    {
     "data": {
      "text/plain": [
       "(100003, 2)"
      ]
     },
     "execution_count": 128,
     "metadata": {},
     "output_type": "execute_result"
    }
   ],
   "source": [
    "df.shape"
   ]
  },
  {
   "cell_type": "code",
   "execution_count": 129,
   "id": "276511f9-fe78-4649-919c-7cde85b956e9",
   "metadata": {},
   "outputs": [
    {
     "name": "stdout",
     "output_type": "stream",
     "text": [
      "<class 'pandas.core.frame.DataFrame'>\n",
      "RangeIndex: 100003 entries, 0 to 100002\n",
      "Data columns (total 2 columns):\n",
      " #   Column  Non-Null Count   Dtype \n",
      "---  ------  --------------   ----- \n",
      " 0   类目      100002 non-null  object\n",
      " 1   标题      99970 non-null   object\n",
      "dtypes: object(2)\n",
      "memory usage: 1.5+ MB\n"
     ]
    }
   ],
   "source": [
    "df.info()"
   ]
  },
  {
   "cell_type": "markdown",
   "id": "a085007f-d021-47dc-a0ef-78cfadc2b6bf",
   "metadata": {},
   "source": [
    "**The distribution of the targets**"
   ]
  },
  {
   "cell_type": "code",
   "execution_count": 130,
   "id": "c56d33ea-4024-48dc-aaa7-9b2465870e00",
   "metadata": {},
   "outputs": [
    {
     "data": {
      "text/plain": [
       "Home & Garden                                              19888\n",
       "Beauty & Health                                            11266\n",
       "Automobiles, Parts & Accessories                           10570\n",
       "Consumer Electronics                                       10438\n",
       "Computer & Office                                           6325\n",
       "                                                           ...  \n",
       "Drawer Organizers                                              1\n",
       "Elephants.                                                     1\n",
       "Dowel                                                          1\n",
       "Double-Sided Tape                                              1\n",
       "Conga 1790 vacuum cleaner Robot  Cleaner Accessories           1\n",
       "Name: 类目, Length: 1461, dtype: int64"
      ]
     },
     "execution_count": 130,
     "metadata": {},
     "output_type": "execute_result"
    }
   ],
   "source": [
    "df.iloc[:, 0].value_counts()"
   ]
  },
  {
   "cell_type": "code",
   "execution_count": 131,
   "id": "eafb55e1-5c38-4fe0-84da-e411d18599c2",
   "metadata": {},
   "outputs": [
    {
     "data": {
      "text/html": [
       "<div>\n",
       "<style scoped>\n",
       "    .dataframe tbody tr th:only-of-type {\n",
       "        vertical-align: middle;\n",
       "    }\n",
       "\n",
       "    .dataframe tbody tr th {\n",
       "        vertical-align: top;\n",
       "    }\n",
       "\n",
       "    .dataframe thead th {\n",
       "        text-align: right;\n",
       "    }\n",
       "</style>\n",
       "<table border=\"1\" class=\"dataframe\">\n",
       "  <thead>\n",
       "    <tr style=\"text-align: right;\">\n",
       "      <th></th>\n",
       "      <th>类目</th>\n",
       "      <th>标题</th>\n",
       "    </tr>\n",
       "  </thead>\n",
       "  <tbody>\n",
       "    <tr>\n",
       "      <th>count</th>\n",
       "      <td>100002</td>\n",
       "      <td>99970</td>\n",
       "    </tr>\n",
       "    <tr>\n",
       "      <th>unique</th>\n",
       "      <td>1461</td>\n",
       "      <td>99565</td>\n",
       "    </tr>\n",
       "    <tr>\n",
       "      <th>top</th>\n",
       "      <td>Home &amp; Garden</td>\n",
       "      <td>SSD External Hard Drive 2TB 1TB HD Externo USB...</td>\n",
       "    </tr>\n",
       "    <tr>\n",
       "      <th>freq</th>\n",
       "      <td>19888</td>\n",
       "      <td>4</td>\n",
       "    </tr>\n",
       "  </tbody>\n",
       "</table>\n",
       "</div>"
      ],
      "text/plain": [
       "                   类目                                                 标题\n",
       "count          100002                                              99970\n",
       "unique           1461                                              99565\n",
       "top     Home & Garden  SSD External Hard Drive 2TB 1TB HD Externo USB...\n",
       "freq            19888                                                  4"
      ]
     },
     "execution_count": 131,
     "metadata": {},
     "output_type": "execute_result"
    }
   ],
   "source": [
    "df.describe()  # classification problem"
   ]
  },
  {
   "cell_type": "code",
   "execution_count": 132,
   "id": "e0285e8f-f9aa-42d1-99f9-0d4f835823fa",
   "metadata": {},
   "outputs": [
    {
     "data": {
      "text/html": [
       "<div>\n",
       "<style scoped>\n",
       "    .dataframe tbody tr th:only-of-type {\n",
       "        vertical-align: middle;\n",
       "    }\n",
       "\n",
       "    .dataframe tbody tr th {\n",
       "        vertical-align: top;\n",
       "    }\n",
       "\n",
       "    .dataframe thead th {\n",
       "        text-align: right;\n",
       "    }\n",
       "</style>\n",
       "<table border=\"1\" class=\"dataframe\">\n",
       "  <thead>\n",
       "    <tr style=\"text-align: right;\">\n",
       "      <th></th>\n",
       "      <th>类目</th>\n",
       "      <th>标题</th>\n",
       "    </tr>\n",
       "  </thead>\n",
       "  <tbody>\n",
       "    <tr>\n",
       "      <th>13555</th>\n",
       "      <td>School lunch box, excursions, picnics.</td>\n",
       "      <td>NaN</td>\n",
       "    </tr>\n",
       "    <tr>\n",
       "      <th>13556</th>\n",
       "      <td>670 ml - 1020 ml</td>\n",
       "      <td>NaN</td>\n",
       "    </tr>\n",
       "    <tr>\n",
       "      <th>26379</th>\n",
       "      <td>Fitted Sheet + fitted sheet + pillowcase</td>\n",
       "      <td>NaN</td>\n",
       "    </tr>\n",
       "    <tr>\n",
       "      <th>26394</th>\n",
       "      <td>White, Gray.</td>\n",
       "      <td>NaN</td>\n",
       "    </tr>\n",
       "    <tr>\n",
       "      <th>26395</th>\n",
       "      <td>Elephants.</td>\n",
       "      <td>NaN</td>\n",
       "    </tr>\n",
       "    <tr>\n",
       "      <th>27234</th>\n",
       "      <td>Educational Building Construction</td>\n",
       "      <td>NaN</td>\n",
       "    </tr>\n",
       "    <tr>\n",
       "      <th>27239</th>\n",
       "      <td>Educational</td>\n",
       "      <td>NaN</td>\n",
       "    </tr>\n",
       "    <tr>\n",
       "      <th>32245</th>\n",
       "      <td>100% po</td>\n",
       "      <td>NaN</td>\n",
       "    </tr>\n",
       "    <tr>\n",
       "      <th>32253</th>\n",
       "      <td>100% polyester</td>\n",
       "      <td>NaN</td>\n",
       "    </tr>\n",
       "    <tr>\n",
       "      <th>32255</th>\n",
       "      <td>100% polyester</td>\n",
       "      <td>NaN</td>\n",
       "    </tr>\n",
       "    <tr>\n",
       "      <th>32267</th>\n",
       "      <td>Made in Spain of</td>\n",
       "      <td>NaN</td>\n",
       "    </tr>\n",
       "    <tr>\n",
       "      <th>32282</th>\n",
       "      <td>100% cotton</td>\n",
       "      <td>NaN</td>\n",
       "    </tr>\n",
       "    <tr>\n",
       "      <th>32284</th>\n",
       "      <td>100% cotton</td>\n",
       "      <td>NaN</td>\n",
       "    </tr>\n",
       "    <tr>\n",
       "      <th>32288</th>\n",
       "      <td>100% cotton</td>\n",
       "      <td>NaN</td>\n",
       "    </tr>\n",
       "    <tr>\n",
       "      <th>32295</th>\n",
       "      <td>70% cotton 22% polyester % elastane</td>\n",
       "      <td>NaN</td>\n",
       "    </tr>\n",
       "    <tr>\n",
       "      <th>32299</th>\n",
       "      <td>74% cotton 24% polyester 2% elastane</td>\n",
       "      <td>NaN</td>\n",
       "    </tr>\n",
       "    <tr>\n",
       "      <th>32323</th>\n",
       "      <td>100% POLYESTER</td>\n",
       "      <td>NaN</td>\n",
       "    </tr>\n",
       "    <tr>\n",
       "      <th>40971</th>\n",
       "      <td>Ergonomic, Сomfortable work on computer</td>\n",
       "      <td>NaN</td>\n",
       "    </tr>\n",
       "    <tr>\n",
       "      <th>40973</th>\n",
       "      <td>Ergonomic, Сomfortable work on computer</td>\n",
       "      <td>NaN</td>\n",
       "    </tr>\n",
       "    <tr>\n",
       "      <th>40975</th>\n",
       "      <td>Ergonomic, Сomfortable work on computer</td>\n",
       "      <td>NaN</td>\n",
       "    </tr>\n",
       "    <tr>\n",
       "      <th>40981</th>\n",
       "      <td>Ergonomic, Сomfortable work on computer</td>\n",
       "      <td>NaN</td>\n",
       "    </tr>\n",
       "    <tr>\n",
       "      <th>40985</th>\n",
       "      <td>Ergonomic, Сomfortable work on computer</td>\n",
       "      <td>NaN</td>\n",
       "    </tr>\n",
       "    <tr>\n",
       "      <th>40990</th>\n",
       "      <td>Ergonomic, Сomfortable work on computer</td>\n",
       "      <td>NaN</td>\n",
       "    </tr>\n",
       "    <tr>\n",
       "      <th>40992</th>\n",
       "      <td>Ergonomic, Сomfortable work on computer</td>\n",
       "      <td>NaN</td>\n",
       "    </tr>\n",
       "    <tr>\n",
       "      <th>40998</th>\n",
       "      <td>Ergonomic, Сomfortable work on computer</td>\n",
       "      <td>NaN</td>\n",
       "    </tr>\n",
       "    <tr>\n",
       "      <th>41000</th>\n",
       "      <td>Ergonomic, Сomfortable work on computer</td>\n",
       "      <td>NaN</td>\n",
       "    </tr>\n",
       "    <tr>\n",
       "      <th>41002</th>\n",
       "      <td>Ergonomic, Сomfortable work on computer</td>\n",
       "      <td>NaN</td>\n",
       "    </tr>\n",
       "    <tr>\n",
       "      <th>41004</th>\n",
       "      <td>Ergonomic, Сomfortable work on computer</td>\n",
       "      <td>NaN</td>\n",
       "    </tr>\n",
       "    <tr>\n",
       "      <th>51942</th>\n",
       "      <td>(Color: P</td>\n",
       "      <td>NaN</td>\n",
       "    </tr>\n",
       "    <tr>\n",
       "      <th>76479</th>\n",
       "      <td>About Psychology бессознательного</td>\n",
       "      <td>NaN</td>\n",
       "    </tr>\n",
       "    <tr>\n",
       "      <th>76665</th>\n",
       "      <td>NaN</td>\n",
       "      <td>NaN</td>\n",
       "    </tr>\n",
       "    <tr>\n",
       "      <th>88057</th>\n",
       "      <td>2</td>\n",
       "      <td>NaN</td>\n",
       "    </tr>\n",
       "    <tr>\n",
       "      <th>96462</th>\n",
       "      <td>Conga 1790 vacuum cleaner Robot  Cleaner Acces...</td>\n",
       "      <td>NaN</td>\n",
       "    </tr>\n",
       "  </tbody>\n",
       "</table>\n",
       "</div>"
      ],
      "text/plain": [
       "                                                      类目   标题\n",
       "13555             School lunch box, excursions, picnics.  NaN\n",
       "13556                                   670 ml - 1020 ml  NaN\n",
       "26379           Fitted Sheet + fitted sheet + pillowcase  NaN\n",
       "26394                                       White, Gray.  NaN\n",
       "26395                                         Elephants.  NaN\n",
       "27234                  Educational Building Construction  NaN\n",
       "27239                                        Educational  NaN\n",
       "32245                                            100% po  NaN\n",
       "32253                                     100% polyester  NaN\n",
       "32255                                     100% polyester  NaN\n",
       "32267                                   Made in Spain of  NaN\n",
       "32282                                        100% cotton  NaN\n",
       "32284                                        100% cotton  NaN\n",
       "32288                                        100% cotton  NaN\n",
       "32295                70% cotton 22% polyester % elastane  NaN\n",
       "32299               74% cotton 24% polyester 2% elastane  NaN\n",
       "32323                                     100% POLYESTER  NaN\n",
       "40971            Ergonomic, Сomfortable work on computer  NaN\n",
       "40973            Ergonomic, Сomfortable work on computer  NaN\n",
       "40975            Ergonomic, Сomfortable work on computer  NaN\n",
       "40981            Ergonomic, Сomfortable work on computer  NaN\n",
       "40985            Ergonomic, Сomfortable work on computer  NaN\n",
       "40990            Ergonomic, Сomfortable work on computer  NaN\n",
       "40992            Ergonomic, Сomfortable work on computer  NaN\n",
       "40998            Ergonomic, Сomfortable work on computer  NaN\n",
       "41000            Ergonomic, Сomfortable work on computer  NaN\n",
       "41002            Ergonomic, Сomfortable work on computer  NaN\n",
       "41004            Ergonomic, Сomfortable work on computer  NaN\n",
       "51942                                          (Color: P  NaN\n",
       "76479                  About Psychology бессознательного  NaN\n",
       "76665                                                NaN  NaN\n",
       "88057                                                  2  NaN\n",
       "96462  Conga 1790 vacuum cleaner Robot  Cleaner Acces...  NaN"
      ]
     },
     "execution_count": 132,
     "metadata": {},
     "output_type": "execute_result"
    }
   ],
   "source": [
    "# check for missing values \n",
    "# there as some data missing in the rows (around 34 missing rows, not that much), \n",
    "# can be dropped for the beginning\n",
    "\n",
    "# the missing rows in the data\n",
    "df[df.isnull().any(axis=1)]"
   ]
  },
  {
   "cell_type": "code",
   "execution_count": 133,
   "id": "15fe3c45-6a63-4253-bae4-8dc069ea6b80",
   "metadata": {},
   "outputs": [],
   "source": [
    "# I think for the beginning removing the missing values will be safest thing to do\n",
    "if df.isna().sum().sum() > 0:\n",
    "    df.dropna(axis=0, inplace=True)"
   ]
  },
  {
   "cell_type": "code",
   "execution_count": 134,
   "id": "a14c3b4b-e54b-4908-867f-e5fe159a9cb5",
   "metadata": {},
   "outputs": [],
   "source": [
    "# using the description of the items as inputs\n",
    "# for bert, input is represented as [CLS] + \" \" + [SEP] + \" \" + [SEP]\n",
    "df['input'] = '[CLS] ' + df.标题.astype('str') + ' [SEP]'"
   ]
  },
  {
   "cell_type": "code",
   "execution_count": 135,
   "id": "12546714-f332-4fea-a533-75b66c4591fb",
   "metadata": {},
   "outputs": [
    {
     "data": {
      "text/plain": [
       "0         [CLS] 4 in 1 Pet Hair Clipper With 4 Blades Gr...\n",
       "1         [CLS] Animal Clipper pet care series sonar sn-...\n",
       "2         [CLS] Babyliss 35007690 block knife set (40mm)...\n",
       "3         [CLS] Dog Hair Trimmer USB Rechargeable Profes...\n",
       "4         [CLS] Dropshipping Dog Noise-Low Design Pet Ha...\n",
       "                                ...                        \n",
       "99998     [CLS] Multi-purpose Handheld Electric High-pre...\n",
       "99999     [CLS] Multi-set Dirt Disposal Replacement Bags...\n",
       "100000    [CLS] Multicooker Rice Cooker 11 in 1 DIY Func...\n",
       "100001    [CLS] Multifunction Automatic UV Sterilizer fo...\n",
       "100002    [CLS] Multifunction Electric Remove Calluses H...\n",
       "Name: input, Length: 99970, dtype: object"
      ]
     },
     "execution_count": 135,
     "metadata": {},
     "output_type": "execute_result"
    }
   ],
   "source": [
    "df['input']"
   ]
  },
  {
   "cell_type": "markdown",
   "id": "ee92398a-27f9-4f0d-94cf-42e75044d32e",
   "metadata": {},
   "source": [
    "**Splitting the data into Train, Validation and Test sets**\n",
    "\n",
    "Since this is a classification problem, I will be testing different versions of the Stratify"
   ]
  },
  {
   "cell_type": "code",
   "execution_count": 136,
   "id": "837a22dc-9340-4502-a194-eefc416f67e2",
   "metadata": {},
   "outputs": [
    {
     "data": {
      "application/vnd.jupyter.widget-view+json": {
       "model_id": "102ca4bddf04460ca37639f070f9e120",
       "version_major": 2,
       "version_minor": 0
      },
      "text/plain": [
       "  0%|          | 0/5 [00:00<?, ?it/s]"
      ]
     },
     "metadata": {},
     "output_type": "display_data"
    }
   ],
   "source": [
    "from sklearn.model_selection import StratifiedKFold, StratifiedShuffleSplit\n",
    "n_splits = 5\n",
    "cv = StratifiedKFold(n_splits=5)\n",
    "\n",
    "# to avoid data leakage, the titles or just the training data will not be exposed\n",
    "X = df.index.values\n",
    "y = df.iloc[:, 0].values\n",
    "\n",
    "df['fold'] = -1\n",
    "\n",
    "for fold, (tr_idx, val_idx) in enumerate(tqdm(cv.split(X, y), file=sys.stdout, total=n_splits)):\n",
    "    df.iloc[val_idx, -1] = fold"
   ]
  },
  {
   "cell_type": "code",
   "execution_count": 137,
   "id": "d8c0eb6c-d458-497f-9314-1d5c8ebce6b4",
   "metadata": {},
   "outputs": [
    {
     "data": {
      "text/plain": [
       "0    19994\n",
       "1    19994\n",
       "2    19994\n",
       "3    19994\n",
       "4    19994\n",
       "Name: fold, dtype: int64"
      ]
     },
     "execution_count": 137,
     "metadata": {},
     "output_type": "execute_result"
    }
   ],
   "source": [
    "# checking the distribution of the folds\n",
    "df['fold'].value_counts()"
   ]
  },
  {
   "cell_type": "code",
   "execution_count": 138,
   "id": "25663b6b-6644-43be-954f-7110f3796a05",
   "metadata": {},
   "outputs": [
    {
     "data": {
      "text/plain": [
       "train    59982\n",
       "test     19994\n",
       "valid    19994\n",
       "Name: stage, dtype: int64"
      ]
     },
     "execution_count": 138,
     "metadata": {},
     "output_type": "execute_result"
    }
   ],
   "source": [
    "# now creating the splits\n",
    "df['stage'] = df['fold'].apply(lambda x: 'test' if x==0 else ('valid' if x == 4 else 'train'))\n",
    "\n",
    "train_df = df[df['stage'] == 'train']\n",
    "valid_df = df[df['stage'] == 'valid']\n",
    "test_df = df[df['stage'] == 'test']\n",
    "\n",
    "df['stage'].value_counts()"
   ]
  },
  {
   "cell_type": "code",
   "execution_count": 108,
   "id": "9cfda23f-4642-4ace-a336-12f127009dcf",
   "metadata": {},
   "outputs": [],
   "source": [
    "# drop off the fold and stage columns from the train, valid and test sets\n",
    "train_df.drop(['fold', 'stage'], axis=1, inplace=True)\n",
    "valid_df.drop(['fold', 'stage'], axis=1, inplace=True)\n",
    "test_df.drop(['fold', 'stage'], axis=1, inplace=True)"
   ]
  },
  {
   "cell_type": "markdown",
   "id": "ce77babe-d7d0-4a5f-a1ee-f7da82cdbcfb",
   "metadata": {},
   "source": [
    "**Tokenization**"
   ]
  },
  {
   "cell_type": "code",
   "execution_count": 139,
   "id": "705b6e72-6ec3-4cd1-b3cd-fb53e48fbf50",
   "metadata": {},
   "outputs": [],
   "source": [
    "# Before tokenizing the inputs, first need to convert the 类目 (categories) into numbers\n",
    "from sklearn.preprocessing import LabelEncoder\n",
    "# since there are specific categories that will be used, then using the whole dataset to \n",
    "# label encode will be fine\n",
    "encoder = LabelEncoder().fit(df['类目'])\n",
    "\n",
    "train_df['类目'] = encoder.transform(train_df['类目'])\n",
    "valid_df['类目'] = encoder.transform(valid_df['类目'])\n",
    "test_df['类目'] = encoder.transform(test_df['类目'])"
   ]
  },
  {
   "cell_type": "code",
   "execution_count": 64,
   "id": "0906db72-e0cf-4717-b781-ee8bd3aa8b30",
   "metadata": {},
   "outputs": [],
   "source": [
    "import torch\n",
    "import torch.nn as nn\n",
    "from torch.utils.data import Dataset, DataLoader\n",
    "\n",
    "from transformers import BertForSequenceClassification, BertTokenizer"
   ]
  },
  {
   "cell_type": "code",
   "execution_count": 173,
   "id": "d7dcd3e3-f513-41e1-86ca-3c005b043b4f",
   "metadata": {},
   "outputs": [],
   "source": [
    "class ItemsDataset(Dataset):\n",
    "    def __init__(self, df, isTest=False):\n",
    "        self.df = df\n",
    "        self.isTest = isTest\n",
    "        self.tokenizer = BertTokenizer.from_pretrained(CFG.model_name)\n",
    "        \n",
    "    def __len__(self):\n",
    "        return self.df.shape[0]\n",
    "    \n",
    "    def __getitem__(self, idx):\n",
    "        row = self.df.iloc[idx]\n",
    "        \n",
    "        inputs = self.tokenizer.encode_plus(\n",
    "            row['标题'],\n",
    "            None,\n",
    "            add_special_tokens=True,\n",
    "            max_length=CFG.MAX_LEN,\n",
    "            padding=\"max_length\",\n",
    "            return_token_type_ids=True,\n",
    "            truncation=True\n",
    "        )\n",
    "        \n",
    "        ids = torch.tensor(inputs['input_ids'], dtype=torch.long)\n",
    "        mask = torch.tensor(inputs['attention_mask'], dtype=torch.long)\n",
    "        token_type_ids = torch.tensor(inputs['token_type_ids'], dtype=torch.long)\n",
    "        \n",
    "        if self.isTest:\n",
    "            return (ids, mask, token_type_ids)\n",
    "        else:\n",
    "            target = torch.tensor(row['类目'], dtype=torch.int)\n",
    "            return (ids, mask, token_type_ids, target)"
   ]
  },
  {
   "cell_type": "code",
   "execution_count": 174,
   "id": "fe716d7d-836e-4e3e-9daa-ecf9d2c7f940",
   "metadata": {},
   "outputs": [],
   "source": [
    "trainSet = ItemsDataset(train_df)"
   ]
  },
  {
   "cell_type": "code",
   "execution_count": 175,
   "id": "21b3234d-4b01-4d67-bcc0-d2ef0c993e1f",
   "metadata": {},
   "outputs": [],
   "source": [
    "trainDataLoader = DataLoader(trainSet, batch_size=32, num_workers=2, shuffle=True)"
   ]
  },
  {
   "cell_type": "code",
   "execution_count": 176,
   "id": "72e2babf-4aa3-4b25-a42a-a68606258431",
   "metadata": {},
   "outputs": [],
   "source": [
    "for batch in trainDataLoader:\n",
    "    break"
   ]
  },
  {
   "cell_type": "code",
   "execution_count": 177,
   "id": "5b8b1c2f-876b-4aef-bf2f-952ec68683e2",
   "metadata": {},
   "outputs": [
    {
     "data": {
      "text/plain": [
       "[tensor([[  101,  2005,  6487,  ...,     0,     0,     0],\n",
       "         [  101,  1020, 15042,  ...,     0,     0,     0],\n",
       "         [  101,  1041,  4213,  ...,     0,     0,     0],\n",
       "         ...,\n",
       "         [  101, 17368, 14976,  ...,     0,     0,     0],\n",
       "         [  101,  2047, 18833,  ...,     0,     0,     0],\n",
       "         [  101, 18712,  2094,  ...,     0,     0,     0]]),\n",
       " tensor([[1, 1, 1,  ..., 0, 0, 0],\n",
       "         [1, 1, 1,  ..., 0, 0, 0],\n",
       "         [1, 1, 1,  ..., 0, 0, 0],\n",
       "         ...,\n",
       "         [1, 1, 1,  ..., 0, 0, 0],\n",
       "         [1, 1, 1,  ..., 0, 0, 0],\n",
       "         [1, 1, 1,  ..., 0, 0, 0]]),\n",
       " tensor([[0, 0, 0,  ..., 0, 0, 0],\n",
       "         [0, 0, 0,  ..., 0, 0, 0],\n",
       "         [0, 0, 0,  ..., 0, 0, 0],\n",
       "         ...,\n",
       "         [0, 0, 0,  ..., 0, 0, 0],\n",
       "         [0, 0, 0,  ..., 0, 0, 0],\n",
       "         [0, 0, 0,  ..., 0, 0, 0]]),\n",
       " tensor([1440,  837,  679,  113, 1440,  113, 1439,  679, 1234, 1234, 1439, 1360,\n",
       "          668,  513,  225,  679,  668,  113, 1234,  823, 1439,  625,  818,  664,\n",
       "          225,  225,  113,  454, 1439,  664,  679,  679], dtype=torch.int32)]"
      ]
     },
     "execution_count": 177,
     "metadata": {},
     "output_type": "execute_result"
    }
   ],
   "source": [
    "batch"
   ]
  },
  {
   "cell_type": "code",
   "execution_count": 160,
   "id": "83c605fc-a418-404f-aa12-d9c221086b9b",
   "metadata": {},
   "outputs": [],
   "source": [
    "# baseline BertModel\n",
    "class ItemsBertModel(nn.Module):\n",
    "    def __init__(self):\n",
    "        super(ItemsBertModel, self).__init__()\n",
    "        self.bert = BertForSequenceClassification.from_pretrained(CFG.model_name)\n",
    "        self.drop = nn.Dropout(p=0.2)\n",
    "        self.fc = nn.Linear(3072, 1442)  # since there are 1442 unique categories that can be predicted\n",
    "        \n",
    "    def forward(self, ids, mask, token_type_ids):\n",
    "        _, output = self."
   ]
  },
  {
   "cell_type": "code",
   "execution_count": 161,
   "id": "99d76cfa-f860-4274-8901-5fd135f6d230",
   "metadata": {},
   "outputs": [
    {
     "data": {
      "application/vnd.jupyter.widget-view+json": {
       "model_id": "70eeca371da84fd4a594df46179a8b60",
       "version_major": 2,
       "version_minor": 0
      },
      "text/plain": [
       "Downloading:   0%|          | 0.00/420M [00:00<?, ?B/s]"
      ]
     },
     "metadata": {},
     "output_type": "display_data"
    },
    {
     "name": "stderr",
     "output_type": "stream",
     "text": [
      "Some weights of the model checkpoint at bert-base-uncased were not used when initializing BertForSequenceClassification: ['cls.predictions.bias', 'cls.seq_relationship.bias', 'cls.predictions.transform.LayerNorm.bias', 'cls.predictions.transform.dense.bias', 'cls.predictions.decoder.weight', 'cls.seq_relationship.weight', 'cls.predictions.transform.LayerNorm.weight', 'cls.predictions.transform.dense.weight']\n",
      "- This IS expected if you are initializing BertForSequenceClassification from the checkpoint of a model trained on another task or with another architecture (e.g. initializing a BertForSequenceClassification model from a BertForPreTraining model).\n",
      "- This IS NOT expected if you are initializing BertForSequenceClassification from the checkpoint of a model that you expect to be exactly identical (initializing a BertForSequenceClassification model from a BertForSequenceClassification model).\n",
      "Some weights of BertForSequenceClassification were not initialized from the model checkpoint at bert-base-uncased and are newly initialized: ['classifier.bias', 'classifier.weight']\n",
      "You should probably TRAIN this model on a down-stream task to be able to use it for predictions and inference.\n"
     ]
    }
   ],
   "source": [
    "model = BertForSequenceClassification.from_pretrained(CFG.model_name)"
   ]
  },
  {
   "cell_type": "code",
   "execution_count": null,
   "id": "a8b75c72-7a8f-4b8b-b1d9-01bf4fa41300",
   "metadata": {},
   "outputs": [],
   "source": [
    "model(batch[0], batch[1], batch[2])"
   ]
  },
  {
   "cell_type": "code",
   "execution_count": null,
   "id": "f18c90dd-7bff-4333-a3a7-2cc826dcb50b",
   "metadata": {},
   "outputs": [],
   "source": []
  }
 ],
 "metadata": {
  "kernelspec": {
   "display_name": "default:Python",
   "language": "python",
   "name": "conda-env-default-py"
  },
  "language_info": {
   "codemirror_mode": {
    "name": "ipython",
    "version": 3
   },
   "file_extension": ".py",
   "mimetype": "text/x-python",
   "name": "python",
   "nbconvert_exporter": "python",
   "pygments_lexer": "ipython3",
   "version": "3.9.9"
  }
 },
 "nbformat": 4,
 "nbformat_minor": 5
}
